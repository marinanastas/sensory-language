{
  "cells": [
    {
      "cell_type": "code",
      "execution_count": null,
      "metadata": {
        "id": "WC-ifBL_Zux6"
      },
      "outputs": [],
      "source": [
        "import pandas as pd\n",
        "import matplotlib.pyplot as plt\n",
        "import matplotlib as mpl\n",
        "import seaborn as sns\n",
        "import numpy as np\n",
        "import re"
      ]
    },
    {
      "cell_type": "code",
      "execution_count": null,
      "metadata": {
        "colab": {
          "base_uri": "https://localhost:8080/"
        },
        "id": "e_J0Gjm1KtB7",
        "outputId": "12695618-d33a-4b9e-a2d9-7e3c4b24dae9"
      },
      "outputs": [
        {
          "name": "stdout",
          "output_type": "stream",
          "text": [
            "Drive already mounted at /content/drive; to attempt to forcibly remount, call drive.mount(\"/content/drive\", force_remount=True).\n"
          ]
        }
      ],
      "source": [
        "from google.colab import drive\n",
        "drive.mount('/content/drive')"
      ]
    },
    {
      "cell_type": "code",
      "execution_count": null,
      "metadata": {
        "colab": {
          "base_uri": "https://localhost:8080/"
        },
        "id": "gHFkizOLLQ43",
        "outputId": "9d395f7b-1c3d-4001-96b5-9567827af3c4"
      },
      "outputs": [
        {
          "name": "stdout",
          "output_type": "stream",
          "text": [
            "/content/drive/MyDrive/DH/Диплом\n"
          ]
        }
      ],
      "source": [
        "cd /content/drive/MyDrive/DH/Диплом/"
      ]
    },
    {
      "cell_type": "code",
      "execution_count": null,
      "metadata": {
        "id": "QvDIXrsVaDKp"
      },
      "outputs": [],
      "source": [
        "df_norm = pd.read_csv(\"new_df_norm.csv\")"
      ]
    },
    {
      "cell_type": "code",
      "execution_count": null,
      "metadata": {
        "id": "GFGDDWpTlbJJ"
      },
      "outputs": [],
      "source": [
        "df_norm['Семантическая когорта'] = df_norm['Семантическая когорта'].replace('вкусный', 'вкус')\n",
        "df_norm['Семантическая когорта'] = df_norm['Семантическая когорта'].replace('размер ', 'размер')\n",
        "df_norm['Семантическая когорта'] = df_norm['Семантическая когорта'].replace('звучать', 'звук')\n",
        "df_norm['Часть речи'] = df_norm['Часть речи'].replace('причастие', 'глагол')"
      ]
    },
    {
      "cell_type": "code",
      "execution_count": null,
      "metadata": {
        "id": "YurX2WWhAnk5"
      },
      "outputs": [],
      "source": [
        "df_norm = df_norm.drop(columns=[\"Unnamed: 0\"])"
      ]
    },
    {
      "cell_type": "code",
      "execution_count": null,
      "metadata": {
        "colab": {
          "base_uri": "https://localhost:8080/"
        },
        "id": "7D1ogYS4xkpX",
        "outputId": "c65afbfe-ceed-4d86-c6ce-eeb244476c17"
      },
      "outputs": [
        {
          "name": "stderr",
          "output_type": "stream",
          "text": [
            "<ipython-input-406-a212c0e711cc>:1: FutureWarning: Index.__and__ operating as a set operation is deprecated, in the future this will be a logical operation matching Series.__and__.  Use index.intersection(other) instead.\n",
            "  df_norm = df_norm.drop(df_norm[df_norm['xviii'] == 0].index &\n"
          ]
        }
      ],
      "source": [
        "df_norm = df_norm.drop(df_norm[df_norm['xviii'] == 0].index &\n",
        "                       df_norm[df_norm['xix'] == 0].index &\n",
        "                       df_norm[df_norm['pre1950'] == 0].index &\n",
        "                       df_norm[df_norm['post1950'] == 0].index)"
      ]
    },
    {
      "cell_type": "code",
      "execution_count": null,
      "metadata": {
        "colab": {
          "base_uri": "https://localhost:8080/",
          "height": 519
        },
        "id": "83C6UMgHuWXZ",
        "outputId": "ddda17eb-1408-4c3d-d4a2-5e7e92bc7f98"
      },
      "outputs": [
        {
          "data": {
            "text/html": [
              "\n",
              "  <div id=\"df-129d8023-f327-4814-9e84-b78d17f9b29f\">\n",
              "    <div class=\"colab-df-container\">\n",
              "      <div>\n",
              "<style scoped>\n",
              "    .dataframe tbody tr th:only-of-type {\n",
              "        vertical-align: middle;\n",
              "    }\n",
              "\n",
              "    .dataframe tbody tr th {\n",
              "        vertical-align: top;\n",
              "    }\n",
              "\n",
              "    .dataframe thead th {\n",
              "        text-align: right;\n",
              "    }\n",
              "</style>\n",
              "<table border=\"1\" class=\"dataframe\">\n",
              "  <thead>\n",
              "    <tr style=\"text-align: right;\">\n",
              "      <th></th>\n",
              "      <th>Слово</th>\n",
              "      <th>Часть речи</th>\n",
              "      <th>Сенсорная эксклюзивность</th>\n",
              "      <th>Осязание</th>\n",
              "      <th>Зрение</th>\n",
              "      <th>Вкус</th>\n",
              "      <th>Слух</th>\n",
              "      <th>Запах</th>\n",
              "      <th>Устойчивая метафоричность</th>\n",
              "      <th>Дополнительно</th>\n",
              "      <th>xviii</th>\n",
              "      <th>xix</th>\n",
              "      <th>pre1950</th>\n",
              "      <th>post1950</th>\n",
              "      <th>Семантическая когорта</th>\n",
              "    </tr>\n",
              "  </thead>\n",
              "  <tbody>\n",
              "    <tr>\n",
              "      <th>2</th>\n",
              "      <td>ало-красный</td>\n",
              "      <td>прилагательное</td>\n",
              "      <td>1</td>\n",
              "      <td>0</td>\n",
              "      <td>1</td>\n",
              "      <td>0</td>\n",
              "      <td>0</td>\n",
              "      <td>0</td>\n",
              "      <td>0</td>\n",
              "      <td>0</td>\n",
              "      <td>0.000000</td>\n",
              "      <td>0.000000</td>\n",
              "      <td>0.020888</td>\n",
              "      <td>0.005483</td>\n",
              "      <td>цвет</td>\n",
              "    </tr>\n",
              "    <tr>\n",
              "      <th>3</th>\n",
              "      <td>алый</td>\n",
              "      <td>прилагательное</td>\n",
              "      <td>1</td>\n",
              "      <td>0</td>\n",
              "      <td>1</td>\n",
              "      <td>0</td>\n",
              "      <td>0</td>\n",
              "      <td>0</td>\n",
              "      <td>0</td>\n",
              "      <td>0</td>\n",
              "      <td>6.511520</td>\n",
              "      <td>5.666675</td>\n",
              "      <td>9.754605</td>\n",
              "      <td>9.359884</td>\n",
              "      <td>цвет</td>\n",
              "    </tr>\n",
              "    <tr>\n",
              "      <th>4</th>\n",
              "      <td>амбре</td>\n",
              "      <td>существительное</td>\n",
              "      <td>1</td>\n",
              "      <td>0</td>\n",
              "      <td>0</td>\n",
              "      <td>0</td>\n",
              "      <td>0</td>\n",
              "      <td>1</td>\n",
              "      <td>0</td>\n",
              "      <td>0</td>\n",
              "      <td>0.162788</td>\n",
              "      <td>0.185793</td>\n",
              "      <td>0.052220</td>\n",
              "      <td>0.208363</td>\n",
              "      <td>запах</td>\n",
              "    </tr>\n",
              "    <tr>\n",
              "      <th>5</th>\n",
              "      <td>аметистовый</td>\n",
              "      <td>прилагательное</td>\n",
              "      <td>1</td>\n",
              "      <td>0</td>\n",
              "      <td>1</td>\n",
              "      <td>0</td>\n",
              "      <td>0</td>\n",
              "      <td>0</td>\n",
              "      <td>0</td>\n",
              "      <td>0</td>\n",
              "      <td>0.000000</td>\n",
              "      <td>0.119438</td>\n",
              "      <td>0.323761</td>\n",
              "      <td>0.142564</td>\n",
              "      <td>цвет</td>\n",
              "    </tr>\n",
              "    <tr>\n",
              "      <th>6</th>\n",
              "      <td>антрацитный</td>\n",
              "      <td>прилагательное</td>\n",
              "      <td>1</td>\n",
              "      <td>0</td>\n",
              "      <td>1</td>\n",
              "      <td>0</td>\n",
              "      <td>0</td>\n",
              "      <td>0</td>\n",
              "      <td>0</td>\n",
              "      <td>0</td>\n",
              "      <td>0.000000</td>\n",
              "      <td>0.000000</td>\n",
              "      <td>0.010444</td>\n",
              "      <td>0.021933</td>\n",
              "      <td>цвет</td>\n",
              "    </tr>\n",
              "    <tr>\n",
              "      <th>...</th>\n",
              "      <td>...</td>\n",
              "      <td>...</td>\n",
              "      <td>...</td>\n",
              "      <td>...</td>\n",
              "      <td>...</td>\n",
              "      <td>...</td>\n",
              "      <td>...</td>\n",
              "      <td>...</td>\n",
              "      <td>...</td>\n",
              "      <td>...</td>\n",
              "      <td>...</td>\n",
              "      <td>...</td>\n",
              "      <td>...</td>\n",
              "      <td>...</td>\n",
              "      <td>...</td>\n",
              "    </tr>\n",
              "    <tr>\n",
              "      <th>1017</th>\n",
              "      <td>ярко-красный</td>\n",
              "      <td>прилагательное</td>\n",
              "      <td>1</td>\n",
              "      <td>0</td>\n",
              "      <td>1</td>\n",
              "      <td>0</td>\n",
              "      <td>0</td>\n",
              "      <td>0</td>\n",
              "      <td>0</td>\n",
              "      <td>0</td>\n",
              "      <td>0.000000</td>\n",
              "      <td>1.778301</td>\n",
              "      <td>3.697142</td>\n",
              "      <td>3.871165</td>\n",
              "      <td>цвет</td>\n",
              "    </tr>\n",
              "    <tr>\n",
              "      <th>1018</th>\n",
              "      <td>ярко-оранжевый</td>\n",
              "      <td>прилагательное</td>\n",
              "      <td>1</td>\n",
              "      <td>0</td>\n",
              "      <td>1</td>\n",
              "      <td>0</td>\n",
              "      <td>0</td>\n",
              "      <td>0</td>\n",
              "      <td>0</td>\n",
              "      <td>0</td>\n",
              "      <td>0.000000</td>\n",
              "      <td>0.185793</td>\n",
              "      <td>0.187990</td>\n",
              "      <td>0.723787</td>\n",
              "      <td>цвет</td>\n",
              "    </tr>\n",
              "    <tr>\n",
              "      <th>1019</th>\n",
              "      <td>ярко-розовый</td>\n",
              "      <td>прилагательное</td>\n",
              "      <td>1</td>\n",
              "      <td>0</td>\n",
              "      <td>1</td>\n",
              "      <td>0</td>\n",
              "      <td>0</td>\n",
              "      <td>0</td>\n",
              "      <td>0</td>\n",
              "      <td>0</td>\n",
              "      <td>0.000000</td>\n",
              "      <td>0.305231</td>\n",
              "      <td>0.469976</td>\n",
              "      <td>0.657988</td>\n",
              "      <td>цвет</td>\n",
              "    </tr>\n",
              "    <tr>\n",
              "      <th>1020</th>\n",
              "      <td>ярко-синий</td>\n",
              "      <td>прилагательное</td>\n",
              "      <td>1</td>\n",
              "      <td>0</td>\n",
              "      <td>1</td>\n",
              "      <td>0</td>\n",
              "      <td>0</td>\n",
              "      <td>0</td>\n",
              "      <td>0</td>\n",
              "      <td>0</td>\n",
              "      <td>0.000000</td>\n",
              "      <td>0.199064</td>\n",
              "      <td>1.023502</td>\n",
              "      <td>1.518856</td>\n",
              "      <td>цвет</td>\n",
              "    </tr>\n",
              "    <tr>\n",
              "      <th>1021</th>\n",
              "      <td>ярко-фиолетовый</td>\n",
              "      <td>прилагательное</td>\n",
              "      <td>1</td>\n",
              "      <td>0</td>\n",
              "      <td>1</td>\n",
              "      <td>0</td>\n",
              "      <td>0</td>\n",
              "      <td>0</td>\n",
              "      <td>0</td>\n",
              "      <td>0</td>\n",
              "      <td>0.000000</td>\n",
              "      <td>0.039813</td>\n",
              "      <td>0.052220</td>\n",
              "      <td>0.071282</td>\n",
              "      <td>цвет</td>\n",
              "    </tr>\n",
              "  </tbody>\n",
              "</table>\n",
              "<p>883 rows × 15 columns</p>\n",
              "</div>\n",
              "      <button class=\"colab-df-convert\" onclick=\"convertToInteractive('df-129d8023-f327-4814-9e84-b78d17f9b29f')\"\n",
              "              title=\"Convert this dataframe to an interactive table.\"\n",
              "              style=\"display:none;\">\n",
              "        \n",
              "  <svg xmlns=\"http://www.w3.org/2000/svg\" height=\"24px\"viewBox=\"0 0 24 24\"\n",
              "       width=\"24px\">\n",
              "    <path d=\"M0 0h24v24H0V0z\" fill=\"none\"/>\n",
              "    <path d=\"M18.56 5.44l.94 2.06.94-2.06 2.06-.94-2.06-.94-.94-2.06-.94 2.06-2.06.94zm-11 1L8.5 8.5l.94-2.06 2.06-.94-2.06-.94L8.5 2.5l-.94 2.06-2.06.94zm10 10l.94 2.06.94-2.06 2.06-.94-2.06-.94-.94-2.06-.94 2.06-2.06.94z\"/><path d=\"M17.41 7.96l-1.37-1.37c-.4-.4-.92-.59-1.43-.59-.52 0-1.04.2-1.43.59L10.3 9.45l-7.72 7.72c-.78.78-.78 2.05 0 2.83L4 21.41c.39.39.9.59 1.41.59.51 0 1.02-.2 1.41-.59l7.78-7.78 2.81-2.81c.8-.78.8-2.07 0-2.86zM5.41 20L4 18.59l7.72-7.72 1.47 1.35L5.41 20z\"/>\n",
              "  </svg>\n",
              "      </button>\n",
              "      \n",
              "  <style>\n",
              "    .colab-df-container {\n",
              "      display:flex;\n",
              "      flex-wrap:wrap;\n",
              "      gap: 12px;\n",
              "    }\n",
              "\n",
              "    .colab-df-convert {\n",
              "      background-color: #E8F0FE;\n",
              "      border: none;\n",
              "      border-radius: 50%;\n",
              "      cursor: pointer;\n",
              "      display: none;\n",
              "      fill: #1967D2;\n",
              "      height: 32px;\n",
              "      padding: 0 0 0 0;\n",
              "      width: 32px;\n",
              "    }\n",
              "\n",
              "    .colab-df-convert:hover {\n",
              "      background-color: #E2EBFA;\n",
              "      box-shadow: 0px 1px 2px rgba(60, 64, 67, 0.3), 0px 1px 3px 1px rgba(60, 64, 67, 0.15);\n",
              "      fill: #174EA6;\n",
              "    }\n",
              "\n",
              "    [theme=dark] .colab-df-convert {\n",
              "      background-color: #3B4455;\n",
              "      fill: #D2E3FC;\n",
              "    }\n",
              "\n",
              "    [theme=dark] .colab-df-convert:hover {\n",
              "      background-color: #434B5C;\n",
              "      box-shadow: 0px 1px 3px 1px rgba(0, 0, 0, 0.15);\n",
              "      filter: drop-shadow(0px 1px 2px rgba(0, 0, 0, 0.3));\n",
              "      fill: #FFFFFF;\n",
              "    }\n",
              "  </style>\n",
              "\n",
              "      <script>\n",
              "        const buttonEl =\n",
              "          document.querySelector('#df-129d8023-f327-4814-9e84-b78d17f9b29f button.colab-df-convert');\n",
              "        buttonEl.style.display =\n",
              "          google.colab.kernel.accessAllowed ? 'block' : 'none';\n",
              "\n",
              "        async function convertToInteractive(key) {\n",
              "          const element = document.querySelector('#df-129d8023-f327-4814-9e84-b78d17f9b29f');\n",
              "          const dataTable =\n",
              "            await google.colab.kernel.invokeFunction('convertToInteractive',\n",
              "                                                     [key], {});\n",
              "          if (!dataTable) return;\n",
              "\n",
              "          const docLinkHtml = 'Like what you see? Visit the ' +\n",
              "            '<a target=\"_blank\" href=https://colab.research.google.com/notebooks/data_table.ipynb>data table notebook</a>'\n",
              "            + ' to learn more about interactive tables.';\n",
              "          element.innerHTML = '';\n",
              "          dataTable['output_type'] = 'display_data';\n",
              "          await google.colab.output.renderOutput(dataTable, element);\n",
              "          const docLink = document.createElement('div');\n",
              "          docLink.innerHTML = docLinkHtml;\n",
              "          element.appendChild(docLink);\n",
              "        }\n",
              "      </script>\n",
              "    </div>\n",
              "  </div>\n",
              "  "
            ],
            "text/plain": [
              "                Слово       Часть речи  Сенсорная эксклюзивность  Осязание  \\\n",
              "2         ало-красный   прилагательное                         1         0   \n",
              "3                алый   прилагательное                         1         0   \n",
              "4               амбре  существительное                         1         0   \n",
              "5         аметистовый   прилагательное                         1         0   \n",
              "6         антрацитный   прилагательное                         1         0   \n",
              "...               ...              ...                       ...       ...   \n",
              "1017     ярко-красный   прилагательное                         1         0   \n",
              "1018   ярко-оранжевый   прилагательное                         1         0   \n",
              "1019     ярко-розовый   прилагательное                         1         0   \n",
              "1020       ярко-синий   прилагательное                         1         0   \n",
              "1021  ярко-фиолетовый   прилагательное                         1         0   \n",
              "\n",
              "      Зрение  Вкус  Слух  Запах  Устойчивая метафоричность Дополнительно  \\\n",
              "2          1     0     0      0                          0             0   \n",
              "3          1     0     0      0                          0             0   \n",
              "4          0     0     0      1                          0             0   \n",
              "5          1     0     0      0                          0             0   \n",
              "6          1     0     0      0                          0             0   \n",
              "...      ...   ...   ...    ...                        ...           ...   \n",
              "1017       1     0     0      0                          0             0   \n",
              "1018       1     0     0      0                          0             0   \n",
              "1019       1     0     0      0                          0             0   \n",
              "1020       1     0     0      0                          0             0   \n",
              "1021       1     0     0      0                          0             0   \n",
              "\n",
              "         xviii       xix   pre1950  post1950 Семантическая когорта  \n",
              "2     0.000000  0.000000  0.020888  0.005483                  цвет  \n",
              "3     6.511520  5.666675  9.754605  9.359884                  цвет  \n",
              "4     0.162788  0.185793  0.052220  0.208363                 запах  \n",
              "5     0.000000  0.119438  0.323761  0.142564                  цвет  \n",
              "6     0.000000  0.000000  0.010444  0.021933                  цвет  \n",
              "...        ...       ...       ...       ...                   ...  \n",
              "1017  0.000000  1.778301  3.697142  3.871165                  цвет  \n",
              "1018  0.000000  0.185793  0.187990  0.723787                  цвет  \n",
              "1019  0.000000  0.305231  0.469976  0.657988                  цвет  \n",
              "1020  0.000000  0.199064  1.023502  1.518856                  цвет  \n",
              "1021  0.000000  0.039813  0.052220  0.071282                  цвет  \n",
              "\n",
              "[883 rows x 15 columns]"
            ]
          },
          "execution_count": 407,
          "metadata": {},
          "output_type": "execute_result"
        }
      ],
      "source": [
        "df_norm.loc[df_norm['Устойчивая метафоричность'] == 0]"
      ]
    },
    {
      "cell_type": "code",
      "execution_count": null,
      "metadata": {
        "colab": {
          "base_uri": "https://localhost:8080/"
        },
        "id": "wK6B-41pE3yZ",
        "outputId": "544228ed-41ec-4033-bcc4-5b7e06e8eaca"
      },
      "outputs": [
        {
          "data": {
            "text/plain": [
              "1023"
            ]
          },
          "execution_count": 408,
          "metadata": {},
          "output_type": "execute_result"
        }
      ],
      "source": [
        "df_norm[\"Слово\"].nunique()"
      ]
    },
    {
      "cell_type": "code",
      "execution_count": null,
      "metadata": {
        "colab": {
          "base_uri": "https://localhost:8080/"
        },
        "id": "wjmO0Js2zUJg",
        "outputId": "d5e1ffbb-fd22-4af3-e5f7-7dd412df9b18"
      },
      "outputs": [
        {
          "data": {
            "text/plain": [
              "1    849\n",
              "0    174\n",
              "Name: Сенсорная эксклюзивность, dtype: int64"
            ]
          },
          "execution_count": 409,
          "metadata": {},
          "output_type": "execute_result"
        }
      ],
      "source": [
        "df_norm[\"Сенсорная эксклюзивность\"].value_counts()"
      ]
    },
    {
      "cell_type": "code",
      "execution_count": null,
      "metadata": {
        "colab": {
          "base_uri": "https://localhost:8080/"
        },
        "id": "hlLZLHqp0jKj",
        "outputId": "78927acb-a882-463b-8597-e18ad260860d"
      },
      "outputs": [
        {
          "data": {
            "text/plain": [
              "0    883\n",
              "1    140\n",
              "Name: Устойчивая метафоричность, dtype: int64"
            ]
          },
          "execution_count": 410,
          "metadata": {},
          "output_type": "execute_result"
        }
      ],
      "source": [
        "df_norm[\"Устойчивая метафоричность\"].value_counts()"
      ]
    },
    {
      "cell_type": "code",
      "execution_count": null,
      "metadata": {
        "id": "b6whmKxM6LFK"
      },
      "outputs": [],
      "source": [
        "for index, row in df_norm.iterrows():\n",
        "    if row[\"xviii\"] < row[\"xix\"]:\n",
        "        df_norm.at[index, \"XIX век\"] = 1\n",
        "    if row[\"xviii\"] > row[\"xix\"]:\n",
        "        df_norm.at[index, \"XIX век\"] = -1\n",
        "    if row[\"xviii\"] == row[\"xix\"]:\n",
        "        df_norm.at[index, \"XIX век\"] = 0\n",
        "    if row[\"xix\"] < row[\"pre1950\"]:\n",
        "        df_norm.at[index, \"До 1950\"] = 1\n",
        "    if row[\"xix\"] > row[\"pre1950\"]:\n",
        "        df_norm.at[index, \"До 1950\"] = -1\n",
        "    if row[\"xix\"] == row[\"pre1950\"]:\n",
        "        df_norm.at[index, \"До 1950\"] = 0\n",
        "    if row[\"pre1950\"] < row[\"post1950\"]:\n",
        "        df_norm.at[index, \"После 1950\"] = 1\n",
        "    if row[\"pre1950\"] > row[\"post1950\"]:\n",
        "        df_norm.at[index, \"После 1950\"] = -1\n",
        "    if row[\"pre1950\"] == row[\"post1950\"]:\n",
        "        df_norm.at[index, \"После 1950\"] = 0"
      ]
    },
    {
      "cell_type": "code",
      "execution_count": null,
      "metadata": {
        "colab": {
          "base_uri": "https://localhost:8080/"
        },
        "id": "jUJ1tpThZWxh",
        "outputId": "4d3f4797-2a68-4900-db64-579c48014b4a"
      },
      "outputs": [
        {
          "data": {
            "text/plain": [
              "цвет           313\n",
              "вкус           118\n",
              "размер          97\n",
              "осязание        81\n",
              "форма           77\n",
              "атмосфера       52\n",
              "звук            48\n",
              "температура     44\n",
              "музыка          36\n",
              "вонь            35\n",
              "яркость         33\n",
              "свет            31\n",
              "запах           28\n",
              "голос           23\n",
              "вещество         7\n",
              "Name: Семантическая когорта, dtype: int64"
            ]
          },
          "execution_count": 412,
          "metadata": {},
          "output_type": "execute_result"
        }
      ],
      "source": [
        "df_norm[\"Семантическая когорта\"].value_counts()"
      ]
    },
    {
      "cell_type": "code",
      "execution_count": null,
      "metadata": {
        "id": "vOS4vDuaZiOg"
      },
      "outputs": [],
      "source": [
        "taste = df_norm.loc[(df_norm[\"Семантическая когорта\"] == \"вкус\")]\n",
        "size = df_norm.loc[(df_norm[\"Семантическая когорта\"] == \"размер\")]\n",
        "touch = df_norm.loc[(df_norm[\"Семантическая когорта\"] == \"осязание\")]\n",
        "shape = df_norm.loc[(df_norm[\"Семантическая когорта\"] == \"форма\")]\n",
        "atmosphere = df_norm.loc[(df_norm[\"Семантическая когорта\"] == \"атмосфера\")]\n",
        "to_sound = df_norm.loc[(df_norm[\"Семантическая когорта\"] == \"звук\")]\n",
        "temperature = df_norm.loc[(df_norm[\"Семантическая когорта\"] == \"температура\")]\n",
        "music = df_norm.loc[(df_norm[\"Семантическая когорта\"] == \"музыка\")]\n",
        "stink = df_norm.loc[(df_norm[\"Семантическая когорта\"] == \"вонь\")]\n",
        "brightness = df_norm.loc[(df_norm[\"Семантическая когорта\"] == \"яркость\")]\n",
        "light = df_norm.loc[(df_norm[\"Семантическая когорта\"] == \"свет\")]\n",
        "smell = df_norm.loc[(df_norm[\"Семантическая когорта\"] == \"запах\")]\n",
        "voice = df_norm.loc[(df_norm[\"Семантическая когорта\"] == \"голос\")]\n",
        "substance = df_norm.loc[(df_norm[\"Семантическая когорта\"] == \"вещество\")]"
      ]
    },
    {
      "cell_type": "code",
      "execution_count": null,
      "metadata": {
        "id": "15b5iyoUZiaK"
      },
      "outputs": [],
      "source": [
        "def cohort(cohort):\n",
        "  pivot = cohort.pivot_table(columns=['Слово'], values=['xviii', 'xix', 'pre1950', 'post1950'])\n",
        "  largest = pivot.sum().nlargest(30)\n",
        "  largest = pd.DataFrame(data=largest)\n",
        "  for index, row in largest.iterrows():\n",
        "    letter_pattern = re.findall(r'[а-яё]', str(row))\n",
        "    letter_join = ''.join(letter_pattern)\n",
        "    largest.at[index, \"Слово\"] = letter_join\n",
        "    number_pattern = re.findall(r'[0-9/.]', str(row))\n",
        "    number_join = ''.join(number_pattern)\n",
        "    largest.at[index, \"Значение\"] = float(number_join[1:])\n",
        "  return largest"
      ]
    },
    {
      "cell_type": "code",
      "execution_count": null,
      "metadata": {
        "id": "Vtu3dSV8bTMs"
      },
      "outputs": [],
      "source": [
        "taste = cohort(taste)\n",
        "size = cohort(size)\n",
        "touch = cohort(touch)\n",
        "shape = cohort(shape)\n",
        "atmosphere = cohort(atmosphere)\n",
        "to_sound = cohort(to_sound)\n",
        "temperature = cohort(temperature)\n",
        "music = cohort(music)\n",
        "stink = cohort(stink)\n",
        "brightness = cohort(brightness)\n",
        "light = cohort(light)\n",
        "smell = cohort(smell)\n",
        "voice = cohort(voice)\n",
        "substance = cohort(substance)"
      ]
    },
    {
      "cell_type": "code",
      "execution_count": null,
      "metadata": {
        "id": "CNKscE1X5xBc"
      },
      "outputs": [],
      "source": [
        "largest = cohort(df_norm)"
      ]
    },
    {
      "cell_type": "code",
      "execution_count": null,
      "metadata": {
        "id": "xEKRItyMdUo4"
      },
      "outputs": [],
      "source": [
        "sns.scatterplot(x=taste[\"Значение\"], y=taste[\"Слово\"], color=\"lightcoral\")\n",
        "plt.title(\"Частотные слова семантической когорты (вкус)\")\n",
        "plt.ylabel(\"слово\")\n",
        "plt.xlabel(\"ipm\")\n",
        "plt.savefig(\"scatterplot_taste.png\")\n",
        "plt.show()"
      ]
    },
    {
      "cell_type": "code",
      "execution_count": null,
      "metadata": {
        "id": "vNmM84gagDt3"
      },
      "outputs": [],
      "source": [
        "sns.scatterplot(x=size[\"Значение\"], y=size[\"Слово\"], color=\"darkorange\")\n",
        "plt.title(\"Частотные слова семантической когорты (размер)\")\n",
        "plt.ylabel(\"слово\")\n",
        "plt.xlabel(\"ipm\")\n",
        "plt.savefig(\"scatterplot_size.png\")\n",
        "plt.show()"
      ]
    },
    {
      "cell_type": "code",
      "execution_count": null,
      "metadata": {
        "id": "QZ6wg1NQgwMm"
      },
      "outputs": [],
      "source": [
        "sns.scatterplot(x=touch[\"Значение\"], y=touch[\"Слово\"], color=\"gold\")\n",
        "plt.title(\"Частотные слова семантической когорты (осязание)\")\n",
        "plt.ylabel(\"слово\")\n",
        "plt.xlabel(\"ipm\")\n",
        "plt.savefig(\"scatterplot_touch.png\")\n",
        "plt.show()"
      ]
    },
    {
      "cell_type": "code",
      "execution_count": null,
      "metadata": {
        "id": "Uf1XyVLEhGpA"
      },
      "outputs": [],
      "source": [
        "sns.scatterplot(x=shape[\"Значение\"], y=shape[\"Слово\"], color=\"yellow\")\n",
        "plt.title(\"Частотные слова семантической когорты (форма)\")\n",
        "plt.ylabel(\"слово\")\n",
        "plt.xlabel(\"ipm\")\n",
        "plt.savefig(\"scatterplot_shape.png\")\n",
        "plt.show()"
      ]
    },
    {
      "cell_type": "code",
      "execution_count": null,
      "metadata": {
        "id": "-orVEtj2hsb_"
      },
      "outputs": [],
      "source": [
        "sns.scatterplot(x=atmosphere[\"Значение\"], y=atmosphere[\"Слово\"], color=\"yellowgreen\")\n",
        "plt.title(\"Частотные слова семантической когорты (атмосфера)\")\n",
        "plt.ylabel(\"слово\")\n",
        "plt.xlabel(\"ipm\")\n",
        "plt.savefig(\"scatterplot_atmosphere.png\")\n",
        "plt.show()"
      ]
    },
    {
      "cell_type": "code",
      "execution_count": null,
      "metadata": {
        "id": "A8AQmgbiiAdP"
      },
      "outputs": [],
      "source": [
        "sns.scatterplot(x=to_sound[\"Значение\"], y=to_sound[\"Слово\"], color=\"palegreen\")\n",
        "plt.title(\"Частотные слова семантической когорты (звучать)\")\n",
        "plt.ylabel(\"слово\")\n",
        "plt.xlabel(\"ipm\")\n",
        "plt.savefig(\"scatterplot_to_sound.png\")\n",
        "plt.show()"
      ]
    },
    {
      "cell_type": "code",
      "execution_count": null,
      "metadata": {
        "id": "JaPYl0D7iTyo"
      },
      "outputs": [],
      "source": [
        "sns.scatterplot(x=temperature[\"Значение\"], y=temperature[\"Слово\"], color=\"limegreen\")\n",
        "plt.title(\"Частотные слова семантической когорты (температура)\")\n",
        "plt.ylabel(\"слово\")\n",
        "plt.xlabel(\"ipm\")\n",
        "plt.savefig(\"scatterplot_temperature.png\")\n",
        "plt.show()"
      ]
    },
    {
      "cell_type": "code",
      "execution_count": null,
      "metadata": {
        "id": "BLKU1YeziqEJ"
      },
      "outputs": [],
      "source": [
        "sns.scatterplot(x=music[\"Значение\"], y=music[\"Слово\"], color=\"mediumaquamarine\")\n",
        "plt.title(\"Частотные слова семантической когорты (музыка)\")\n",
        "plt.ylabel(\"слово\")\n",
        "plt.xlabel(\"ipm\")\n",
        "plt.savefig(\"scatterplot_music.png\")\n",
        "plt.show()"
      ]
    },
    {
      "cell_type": "code",
      "execution_count": null,
      "metadata": {
        "id": "4_SvORIziwIW"
      },
      "outputs": [],
      "source": [
        "sns.scatterplot(x=stink[\"Значение\"], y=stink[\"Слово\"], color=\"turquoise\")\n",
        "plt.title(\"Частотные слова семантической когорты (вонь)\")\n",
        "plt.ylabel(\"слово\")\n",
        "plt.xlabel(\"ipm\")\n",
        "plt.savefig(\"scatterplot_stink.png\")\n",
        "plt.show()"
      ]
    },
    {
      "cell_type": "code",
      "execution_count": null,
      "metadata": {
        "id": "GZzJig8gi4JQ"
      },
      "outputs": [],
      "source": [
        "sns.scatterplot(x=brightness[\"Значение\"], y=brightness[\"Слово\"], color=\"teal\")\n",
        "plt.title(\"Частотные слова семантической когорты (яркость)\")\n",
        "plt.ylabel(\"слово\")\n",
        "plt.xlabel(\"ipm\")\n",
        "plt.savefig(\"scatterplot_brightness.png\")\n",
        "plt.show()"
      ]
    },
    {
      "cell_type": "code",
      "execution_count": null,
      "metadata": {
        "id": "LcoxskXhi90O"
      },
      "outputs": [],
      "source": [
        "sns.scatterplot(x=light[\"Значение\"], y=light[\"Слово\"], color=\"deepskyblue\")\n",
        "plt.title(\"Частотные слова семантической когорты (свет)\")\n",
        "plt.ylabel(\"слово\")\n",
        "plt.xlabel(\"ipm\")\n",
        "plt.savefig(\"scatterplot_light.png\")\n",
        "plt.show()"
      ]
    },
    {
      "cell_type": "code",
      "execution_count": null,
      "metadata": {
        "id": "rEyEKOYEjDd4"
      },
      "outputs": [],
      "source": [
        "sns.scatterplot(x=smell[\"Значение\"], y=smell[\"Слово\"], color=\"dodgerblue\")\n",
        "plt.title(\"Частотные слова семантической когорты (запах)\")\n",
        "plt.ylabel(\"слово\")\n",
        "plt.xlabel(\"ipm\")\n",
        "plt.savefig(\"scatterplot_smell.png\")\n",
        "plt.show()"
      ]
    },
    {
      "cell_type": "code",
      "execution_count": null,
      "metadata": {
        "id": "aq0w6Ce_jJGm"
      },
      "outputs": [],
      "source": [
        "sns.scatterplot(x=voice[\"Значение\"], y=voice[\"Слово\"], color=\"blueviolet\")\n",
        "plt.title(\"Частотные слова семантической когорты (голос)\")\n",
        "plt.ylabel(\"слово\")\n",
        "plt.xlabel(\"ipm\")\n",
        "plt.savefig(\"scatterplot_voice.png\")\n",
        "plt.show()"
      ]
    },
    {
      "cell_type": "code",
      "execution_count": null,
      "metadata": {
        "id": "I0yDgKCZjP05"
      },
      "outputs": [],
      "source": [
        "sns.scatterplot(x=substance[\"Значение\"], y=substance[\"Слово\"], color=\"deeppink\")\n",
        "plt.title(\"Частотные слова семантической когорты (вещество)\")\n",
        "plt.ylabel(\"слово\")\n",
        "plt.xlabel(\"ipm\")\n",
        "plt.savefig(\"scatterplot_substance.png\")\n",
        "plt.show()"
      ]
    },
    {
      "cell_type": "code",
      "execution_count": null,
      "metadata": {
        "id": "lakaAW7g7K9l"
      },
      "outputs": [],
      "source": [
        "sns.scatterplot(x=largest[\"Значение\"], y=largest[\"Слово\"])\n",
        "plt.title(\"Диаграмма рассеяния для самых частотных слов\")\n",
        "plt.ylabel(\"слово\")\n",
        "plt.xlabel(\"ipm\")\n",
        "plt.savefig(\"scatterplot.png\")\n",
        "plt.show()"
      ]
    },
    {
      "cell_type": "code",
      "execution_count": null,
      "metadata": {
        "id": "N3Jsb-_yyrwz"
      },
      "outputs": [],
      "source": [
        "substance = df_norm.loc[(df_norm[\"Семантическая когорта\"] == \"вещество\")]"
      ]
    },
    {
      "cell_type": "code",
      "execution_count": null,
      "metadata": {
        "id": "Np7oLQWi015f"
      },
      "outputs": [],
      "source": [
        "df_pivot = substance.pivot_table(columns='Слово', values=['XIX век', 'До 1950', 'После 1950'])\n",
        "top = df_pivot.sum().nlargest(50).index.tolist()\n",
        "sns.heatmap(df_pivot.loc[:, top].transpose(), cmap='YlGnBu', annot=True)\n",
        "plt.title('Вещество (сдвиг)')\n",
        "plt.yticks(rotation=0)\n",
        "plt.xlabel('Период')\n",
        "plt.savefig(\"substance_shift.png\")\n",
        "plt.show()"
      ]
    },
    {
      "cell_type": "code",
      "execution_count": null,
      "metadata": {
        "id": "4AVpGTpD0Prp"
      },
      "outputs": [],
      "source": [
        "df_pivot = substance.pivot_table(columns='Слово', values=['xviii', 'xix', 'pre1950', 'post1950'])\n",
        "top = df_pivot.sum().nlargest(50).index.tolist()\n",
        "sns.heatmap(df_pivot.loc[:, top].transpose(), cmap='YlGnBu', annot=True)\n",
        "plt.title('Вещество')\n",
        "plt.xlabel('Период')\n",
        "plt.gca().invert_xaxis()\n",
        "plt.savefig(\"substance.png\")\n",
        "plt.show()"
      ]
    },
    {
      "cell_type": "code",
      "execution_count": null,
      "metadata": {
        "id": "800DUFXBzG78"
      },
      "outputs": [],
      "source": [
        "colors = df_norm.loc[df_norm['Семантическая когорта'].isin([\"цвет\"])]\n",
        "colors"
      ]
    },
    {
      "cell_type": "code",
      "execution_count": null,
      "metadata": {
        "id": "ugZowt5QzkJt"
      },
      "outputs": [],
      "source": [
        "df_norm = df_norm.drop(df_norm[df_norm['Семантическая когорта'] == 'цвет'].index)"
      ]
    },
    {
      "cell_type": "markdown",
      "metadata": {
        "id": "LVfUJr3sbYCT"
      },
      "source": [
        "# Сдвиг в семантических когортах"
      ]
    },
    {
      "cell_type": "code",
      "execution_count": null,
      "metadata": {
        "id": "TXZH6eaVZrzu"
      },
      "outputs": [],
      "source": [
        "df_pivot = df_norm.pivot_table(columns='Семантическая когорта', values=['XIX век', 'До 1950', 'После 1950'])\n",
        "top = df_pivot.sum().nlargest(50).index.tolist()\n",
        "sns.heatmap(df_pivot.loc[:, top].transpose(), cmap='YlGnBu', annot=True)\n",
        "plt.title('Сдвиг в семантических когортах')\n",
        "plt.xlabel('Период')\n",
        "plt.savefig(\"cohort_shift.png\")\n",
        "plt.show()"
      ]
    },
    {
      "cell_type": "markdown",
      "metadata": {
        "id": "3lJxAksM8QC4"
      },
      "source": [
        "# Сенсорная эксклюзивность"
      ]
    },
    {
      "cell_type": "code",
      "execution_count": null,
      "metadata": {
        "id": "CCUvB3puXfVr"
      },
      "outputs": [],
      "source": [
        "df_xviii = pd.read_csv(\"df_xviii.csv\")\n",
        "df_xix = pd.read_csv(\"df_xix.csv\")\n",
        "df_pre1950 = pd.read_csv(\"df_pre1950.csv\")\n",
        "df_post1950 = pd.read_csv(\"df_post1950.csv\")"
      ]
    },
    {
      "cell_type": "code",
      "execution_count": null,
      "metadata": {
        "id": "Ng3I8VXX3Lgz"
      },
      "outputs": [],
      "source": [
        "# df_xviii = df_xviii.drop(df_xviii[df_xviii['Семантическая когорта'] == 'цвет'].index)\n",
        "# df_xix = df_xix.drop(df_xix[df_xix['Семантическая когорта'] == 'цвет'].index)\n",
        "# df_pre1950 = df_pre1950.drop(df_pre1950[df_pre1950['Семантическая когорта'] == 'цвет'].index)\n",
        "# df_post1950 = df_post1950.drop(df_post1950[df_post1950['Семантическая когорта'] == 'цвет'].index)"
      ]
    },
    {
      "cell_type": "code",
      "execution_count": null,
      "metadata": {
        "id": "iK3IQc0moF09"
      },
      "outputs": [],
      "source": [
        "df_xviii['Семантическая когорта'] = df_xviii['Семантическая когорта'].replace('вкусный', 'вкус')\n",
        "df_xix['Семантическая когорта'] = df_xix['Семантическая когорта'].replace('вкусный', 'вкус')\n",
        "df_pre1950['Семантическая когорта'] = df_pre1950['Семантическая когорта'].replace('вкусный', 'вкус')\n",
        "df_post1950['Семантическая когорта'] = df_post1950['Семантическая когорта'].replace('вкусный', 'вкус')\n",
        "df_xviii['Семантическая когорта'] = df_xviii['Семантическая когорта'].replace('размер ', 'размер')\n",
        "df_xix['Семантическая когорта'] = df_xix['Семантическая когорта'].replace('размер ', 'размер')\n",
        "df_pre1950['Семантическая когорта'] = df_pre1950['Семантическая когорта'].replace('размер ', 'размер')\n",
        "df_post1950['Семантическая когорта'] = df_post1950['Семантическая когорта'].replace('размер ', 'размер')\n",
        "df_xviii['Семантическая когорта'] = df_xviii['Семантическая когорта'].replace('звучать', 'звук')\n",
        "df_xix['Семантическая когорта'] = df_xix['Семантическая когорта'].replace('звучать', 'звук')\n",
        "df_pre1950['Семантическая когорта'] = df_pre1950['Семантическая когорта'].replace('звучать', 'звук')\n",
        "df_post1950['Семантическая когорта'] = df_post1950['Семантическая когорта'].replace('звучать', 'звук')\n",
        "df_xviii['Часть речи'] = df_xviii['Часть речи'].replace('причастие', 'глагол')\n",
        "df_xix['Часть речи'] = df_xix['Часть речи'].replace('причастие', 'глагол')\n",
        "df_pre1950['Часть речи'] = df_pre1950['Часть речи'].replace('причастие', 'глагол')\n",
        "df_post1950['Часть речи'] = df_post1950['Часть речи'].replace('причастие', 'глагол')"
      ]
    },
    {
      "cell_type": "code",
      "execution_count": null,
      "metadata": {
        "id": "9ry3gxwQdnpL"
      },
      "outputs": [],
      "source": [
        "df_xviii = df_xviii.drop(df_xviii[df_xviii['xviii'] == 0].index)\n",
        "df_xix = df_xix.drop(df_xix[df_xix['xix'] == 0].index)\n",
        "df_pre1950 = df_pre1950.drop(df_pre1950[df_pre1950['pre1950'] == 0].index)\n",
        "df_post1950 = df_post1950.drop(df_post1950[df_post1950['post1950'] == 0].index)"
      ]
    },
    {
      "cell_type": "code",
      "execution_count": null,
      "metadata": {
        "id": "nB7XQBG2d5Qx"
      },
      "outputs": [],
      "source": [
        "df_xviii = df_xviii.reset_index()\n",
        "df_xix = df_xix.reset_index()\n",
        "df_pre1950 = df_pre1950.reset_index()\n",
        "df_post1950 = df_post1950.reset_index()"
      ]
    },
    {
      "cell_type": "code",
      "execution_count": null,
      "metadata": {
        "id": "ySXRe6zEsDEE"
      },
      "outputs": [],
      "source": [
        "df_exclusivity = pd.concat([df_xviii[\"Сенсорная эксклюзивность\"].value_counts(), df_xix[\"Сенсорная эксклюзивность\"].value_counts(),\n",
        "                    df_pre1950[\"Сенсорная эксклюзивность\"].value_counts(), df_post1950[\"Сенсорная эксклюзивность\"].value_counts()], axis=1)\n",
        "df_exclusivity.columns = ['xviii', 'xix', 'pre1950', 'post1950']\n",
        "\n",
        "for index, row in df_exclusivity.iterrows():\n",
        "  df_exclusivity.at[index, \"xviii\"] = row[\"xviii\"]/df_xviii.shape[0]\n",
        "  df_exclusivity.at[index, \"xix\"] = row[\"xix\"]/df_xix.shape[0]\n",
        "  df_exclusivity.at[index, \"pre1950\"] = row[\"pre1950\"]/df_pre1950.shape[0]\n",
        "  df_exclusivity.at[index, \"post1950\"] = row[\"post1950\"]/df_post1950.shape[0]\n",
        "\n",
        "df_exclusivity = df_exclusivity.reset_index().melt('index', var_name='cols',  value_name='vals')\n",
        "ax = sns.barplot(x=\"vals\", y=\"cols\", hue='index', data=df_exclusivity, palette=\"hls\")\n",
        "\n",
        "ax.set_ylabel('Период')\n",
        "ax.set_xlabel('Нормализованные значения слов по сенсорной эксклюзивности')\n",
        "plt.title(\"Распределение слов по сенсорной эксклюзивности\")\n",
        "plt.legend(bbox_to_anchor=(1.02, 0.15), loc='lower left', borderaxespad=0, title=\"Сенсорная\\nэксклюзивность\")\n",
        "plt.savefig(\"sensory_exclusivity.png\")\n",
        "plt.show()"
      ]
    },
    {
      "cell_type": "markdown",
      "metadata": {
        "id": "OJmVgQN88G2h"
      },
      "source": [
        "# Часть речи"
      ]
    },
    {
      "cell_type": "code",
      "execution_count": null,
      "metadata": {
        "id": "NF8JFpb0TG0k"
      },
      "outputs": [],
      "source": [
        "sns.displot(df_norm, x=\"Часть речи\", hue=\"Часть речи\", binwidth=10)\n",
        "plt.title('Распределение слов по частям речи (весь корпус)', loc=\"left\")\n",
        "plt.tick_params(\n",
        "    axis='x',          # changes apply to the x-axis\n",
        "    which='both',      # both major and minor ticks are affected\n",
        "    bottom=False,      # ticks along the bottom edge are off\n",
        "    top=False,         # ticks along the top edge are off\n",
        "    labelbottom=False)\n",
        "plt.savefig(\"pos_all_corpus.png\")\n",
        "plt.show()"
      ]
    },
    {
      "cell_type": "code",
      "execution_count": null,
      "metadata": {
        "id": "gIMHMJvR97wJ"
      },
      "outputs": [],
      "source": [
        "df_pos = pd.concat([df_xviii[\"Часть речи\"].value_counts(), df_xix[\"Часть речи\"].value_counts(),\n",
        "                    df_pre1950[\"Часть речи\"].value_counts(), df_post1950[\"Часть речи\"].value_counts()], axis=1)\n",
        "df_pos.columns = ['xviii', 'xix', 'pre1950', 'post1950']\n",
        "\n",
        "for index, row in df_pos.iterrows():\n",
        "  df_pos.at[index, \"xviii\"] = row[\"xviii\"]/df_xviii.shape[0]\n",
        "  df_pos.at[index, \"xix\"] = row[\"xix\"]/df_xix.shape[0]\n",
        "  df_pos.at[index, \"pre1950\"] = row[\"pre1950\"]/df_pre1950.shape[0]\n",
        "  df_pos.at[index, \"post1950\"] = row[\"post1950\"]/df_post1950.shape[0]"
      ]
    },
    {
      "cell_type": "code",
      "execution_count": null,
      "metadata": {
        "colab": {
          "background_save": true
        },
        "id": "jQd_-OP1d-5j",
        "outputId": "c8ebc567-df52-437a-abe4-d66df98b596d"
      },
      "outputs": [
        {
          "data": {
            "image/png": "[encoded data removed]",
            "text/plain": [
              "<Figure size 640x480 with 1 Axes>"
            ]
          },
          "metadata": {},
          "output_type": "display_data"
        }
      ],
      "source": [
        "df_pos = df_pos.reset_index().melt('index', var_name='cols',  value_name='vals')\n",
        "ax = sns.barplot(x=\"vals\", y=\"cols\", hue='index', data=df_pos, palette=\"hls\")\n",
        "\n",
        "ax.legend(\"Распределение слов по частям речи\")\n",
        "ax.set_ylabel('Период')\n",
        "ax.set_xlabel('Нормализованные значения слов по частям речи')\n",
        "plt.title(\"Распределение слов по частям речи\")\n",
        "plt.legend(bbox_to_anchor=(1.02, 0.15), loc='lower left', borderaxespad=0)\n",
        "plt.savefig(\"pos_periods.png\")\n",
        "plt.show()"
      ]
    },
    {
      "cell_type": "markdown",
      "metadata": {
        "id": "Ftx0htJi750c"
      },
      "source": [
        "# Семантическая когорта"
      ]
    },
    {
      "cell_type": "code",
      "execution_count": null,
      "metadata": {
        "colab": {
          "background_save": true
        },
        "id": "UY3lS2OXeJTJ"
      },
      "outputs": [],
      "source": [
        "df_cohort = pd.concat([df_xviii[\"Семантическая когорта\"].value_counts(), df_xix[\"Семантическая когорта\"].value_counts(),\n",
        "                    df_pre1950[\"Семантическая когорта\"].value_counts(), df_post1950[\"Семантическая когорта\"].value_counts()], axis=1)\n",
        "df_cohort.columns = ['xviii', 'xix', 'pre1950', 'post1950']\n",
        "\n",
        "for index, row in df_cohort.iterrows():\n",
        "  df_cohort.at[index, \"xviii\"] = row[\"xviii\"]/df_xviii.shape[0]\n",
        "  df_cohort.at[index, \"xix\"] = row[\"xix\"]/df_xix.shape[0]\n",
        "  df_cohort.at[index, \"pre1950\"] = row[\"pre1950\"]/df_pre1950.shape[0]\n",
        "  df_cohort.at[index, \"post1950\"] = row[\"post1950\"]/df_post1950.shape[0]"
      ]
    },
    {
      "cell_type": "code",
      "execution_count": null,
      "metadata": {
        "colab": {
          "background_save": true
        },
        "id": "Ug9FJy-S13r7",
        "outputId": "a2bc2982-dc8d-4aee-de11-58d79e53a926"
      },
      "outputs": [
        {
          "data": {
            "image/png": "[encoded data removed]",
            "text/plain": [
              "<Figure size 640x480 with 2 Axes>"
            ]
          },
          "metadata": {},
          "output_type": "display_data"
        }
      ],
      "source": [
        "df_cohort[\"Семантическая когорта\"] = df_cohort.index\n",
        "df_pivot = df_cohort.pivot_table(columns='Семантическая когорта', values=['xviii', 'xix', 'pre1950', 'post1950'])\n",
        "top = df_pivot.sum().nlargest(50).index.tolist()\n",
        "sns.heatmap(df_pivot.loc[:, top].transpose(), cmap='YlGnBu', annot=True)\n",
        "plt.title('Соотношение семантических когорт по количеству слов')\n",
        "plt.xlabel('Период')\n",
        "plt.gca().invert_xaxis()\n",
        "plt.savefig(\"cohorts.png\")\n",
        "plt.show()"
      ]
    },
    {
      "cell_type": "code",
      "execution_count": null,
      "metadata": {
        "colab": {
          "background_save": true
        },
        "id": "1_BLxFECG1G1"
      },
      "outputs": [],
      "source": [
        "df_cohort = pd.concat([df_xviii[\"Семантическая когорта\"].value_counts(), df_xix[\"Семантическая когорта\"].value_counts(),\n",
        "                    df_pre1950[\"Семантическая когорта\"].value_counts(), df_post1950[\"Семантическая когорта\"].value_counts()], axis=1)\n",
        "df_cohort.columns = ['xviii', 'xix', 'pre1950', 'post1950']\n",
        "\n",
        "for index, row in df_cohort.iterrows():\n",
        "  df_cohort.at[index, \"xviii\"] = row[\"xviii\"]/df_xviii.shape[0]\n",
        "  df_cohort.at[index, \"xix\"] = row[\"xix\"]/df_xix.shape[0]\n",
        "  df_cohort.at[index, \"pre1950\"] = row[\"pre1950\"]/df_pre1950.shape[0]\n",
        "  df_cohort.at[index, \"post1950\"] = row[\"post1950\"]/df_post1950.shape[0]"
      ]
    },
    {
      "cell_type": "code",
      "execution_count": null,
      "metadata": {
        "id": "rFVLzpOfG3QU"
      },
      "outputs": [],
      "source": [
        "df_cohort[\"Семантическая когорта\"] = df_cohort.index\n",
        "df_pivot = df_cohort.pivot_table(columns='Семантическая когорта', values=['xviii', 'xix', 'pre1950', 'post1950'])\n",
        "top = df_pivot.sum().nlargest(50).index.tolist()\n",
        "sns.heatmap(df_pivot.loc[:, top].transpose(), cmap='YlGnBu', annot=True)\n",
        "plt.title('Соотношение семантических когорт')\n",
        "plt.xlabel('Период')\n",
        "plt.gca().invert_xaxis()\n",
        "plt.savefig(\"cohorts.png\")\n",
        "plt.show()"
      ]
    },
    {
      "cell_type": "code",
      "execution_count": null,
      "metadata": {
        "id": "Hgacol-vSe0q"
      },
      "outputs": [],
      "source": [
        "ax = sns.countplot(data=df_norm, x=\"Семантическая когорта\", order=df_norm[\"Семантическая когорта\"].value_counts().index[:20])\n",
        "ax.set_title('Семантические когорты (весь корпус)')\n",
        "plt.xticks(rotation=45)\n",
        "plt.savefig(\"cohorts_all_corpus.png\")\n",
        "plt.show()"
      ]
    },
    {
      "cell_type": "code",
      "execution_count": null,
      "metadata": {
        "id": "IRYuN1Gy9D8r"
      },
      "outputs": [],
      "source": [
        "df_norm[\"Семантическая когорта\"].value_counts()"
      ]
    },
    {
      "cell_type": "code",
      "execution_count": null,
      "metadata": {
        "id": "CrdR-Www5RTi"
      },
      "outputs": [],
      "source": [
        "df_cohort = pd.concat([df_xviii[\"Семантическая когорта\"].value_counts(), df_xix[\"Семантическая когорта\"].value_counts(),\n",
        "                    df_pre1950[\"Семантическая когорта\"].value_counts(), df_post1950[\"Семантическая когорта\"].value_counts()], axis=1)\n",
        "df_cohort.columns = ['xviii', 'xix', 'pre1950', 'post1950']\n",
        "\n",
        "for index, row in df_cohort.iterrows():\n",
        "  df_cohort.at[index, \"xviii\"] = row[\"xviii\"]/df_xviii.shape[0]\n",
        "  df_cohort.at[index, \"xix\"] = row[\"xix\"]/df_xix.shape[0]\n",
        "  df_cohort.at[index, \"pre1950\"] = row[\"pre1950\"]/df_pre1950.shape[0]\n",
        "  df_cohort.at[index, \"post1950\"] = row[\"post1950\"]/df_post1950.shape[0]\n",
        "\n",
        "cohort = df_cohort.reset_index().melt('index', var_name='cols',  value_name='vals')\n",
        "ax = sns.barplot(x=\"vals\", y=\"cols\", hue='index', data=cohort, palette=\"hls\")\n",
        "\n",
        "ax.set_ylabel('Период')\n",
        "ax.set_xlabel('Нормализованные значения слов по семантическим когортам')\n",
        "plt.title(\"Соотношение семантических когорт\")\n",
        "plt.legend(bbox_to_anchor=(1.02, 0.15), loc='lower left', borderaxespad=0)\n",
        "plt.savefig(\"cohorts_periods.png\")\n",
        "plt.show()"
      ]
    },
    {
      "cell_type": "code",
      "execution_count": null,
      "metadata": {
        "id": "5Mzmcz5i0zHM"
      },
      "outputs": [],
      "source": [
        "sns.boxplot(data=df_cohort)\n",
        "plt.title('Диапазон значений количества слов в семантических когортах')\n",
        "plt.savefig(\"cohort_boxplot.png\")\n",
        "plt.show()"
      ]
    },
    {
      "cell_type": "code",
      "execution_count": null,
      "metadata": {
        "id": "7CBxa9W55jmb"
      },
      "outputs": [],
      "source": [
        "sns.violinplot(data=df_cohort)\n",
        "plt.title('Разнообразие семантических когорт в зависимости от периода')\n",
        "plt.savefig(\"cohort_violinplot.png\")\n",
        "plt.show()"
      ]
    },
    {
      "cell_type": "markdown",
      "metadata": {
        "id": "EHXLulKM-HLw"
      },
      "source": [
        "# Органы чувств"
      ]
    },
    {
      "cell_type": "code",
      "execution_count": null,
      "metadata": {
        "id": "MWor07sq8DIg"
      },
      "outputs": [],
      "source": [
        "df_vision = pd.concat([df_xviii[\"Зрение\"].value_counts(), df_xix[\"Зрение\"].value_counts(),\n",
        "                    df_pre1950[\"Зрение\"].value_counts(), df_post1950[\"Зрение\"].value_counts()], axis=1)\n",
        "df_vision.columns = ['xviii', 'xix', 'pre1950', 'post1950']\n",
        "\n",
        "df_hearing = pd.concat([df_xviii[\"Слух\"].value_counts(), df_xix[\"Слух\"].value_counts(),\n",
        "                    df_pre1950[\"Слух\"].value_counts(), df_post1950[\"Слух\"].value_counts()], axis=1)\n",
        "df_hearing.columns = ['xviii', 'xix', 'pre1950', 'post1950']\n",
        "\n",
        "df_taste = pd.concat([df_xviii[\"Вкус\"].value_counts(), df_xix[\"Вкус\"].value_counts(),\n",
        "                    df_pre1950[\"Вкус\"].value_counts(), df_post1950[\"Вкус\"].value_counts()], axis=1)\n",
        "df_taste.columns = ['xviii', 'xix', 'pre1950', 'post1950']\n",
        "\n",
        "df_olfactory = pd.concat([df_xviii[\"Запах\"].value_counts(), df_xix[\"Запах\"].value_counts(),\n",
        "                    df_pre1950[\"Запах\"].value_counts(), df_post1950[\"Запах\"].value_counts()], axis=1)\n",
        "df_olfactory.columns = ['xviii', 'xix', 'pre1950', 'post1950']\n",
        "\n",
        "df_touch = pd.concat([df_xviii[\"Осязание\"].value_counts(), df_xix[\"Осязание\"].value_counts(),\n",
        "                    df_pre1950[\"Осязание\"].value_counts(), df_post1950[\"Осязание\"].value_counts()], axis=1)\n",
        "df_touch.columns = ['xviii', 'xix', 'pre1950', 'post1950']\n",
        "\n",
        "df_senses = pd.concat([df_vision, df_hearing, df_taste, df_olfactory, df_touch], keys=['зрение', 'слух', 'вкус', 'запах', 'осязание'])\n",
        "\n",
        "for index, row in df_senses.iterrows():\n",
        "  df_senses.at[index, \"xviii\"] = row[\"xviii\"]/df_xviii.shape[0]\n",
        "  df_senses.at[index, \"xix\"] = row[\"xix\"]/df_xix.shape[0]\n",
        "  df_senses.at[index, \"pre1950\"] = row[\"pre1950\"]/df_pre1950.shape[0]\n",
        "  df_senses.at[index, \"post1950\"] = row[\"post1950\"]/df_post1950.shape[0]\n",
        "df_senses"
      ]
    },
    {
      "cell_type": "code",
      "execution_count": null,
      "metadata": {
        "id": "eIrm-Bnl718j"
      },
      "outputs": [],
      "source": [
        "df_senses = df_senses.drop(df_senses[df_senses.index == ('вкус', 0)].index)\n",
        "df_senses = df_senses.drop(df_senses[df_senses.index == ('зрение', 0)].index)\n",
        "df_senses = df_senses.drop(df_senses[df_senses.index == ('слух', 0)].index)\n",
        "df_senses = df_senses.drop(df_senses[df_senses.index == ('запах', 0)].index)\n",
        "df_senses = df_senses.drop(df_senses[df_senses.index == ('осязание', 0)].index)\n",
        "df_senses"
      ]
    },
    {
      "cell_type": "code",
      "execution_count": null,
      "metadata": {
        "id": "QSQWSVR6GHcC"
      },
      "outputs": [],
      "source": [
        "feelings = [\"зрение\", \"слух\", \"вкус\", \"запах\", \"осязание\"]\n",
        "df_senses[\"Чувство\"] = feelings"
      ]
    },
    {
      "cell_type": "code",
      "execution_count": null,
      "metadata": {
        "id": "2D_HCbuou6xn"
      },
      "outputs": [],
      "source": [
        "df_pivot = df_senses.pivot_table(index=df_senses[\"Чувство\"], values=['xviii', 'xix', 'pre1950', 'post1950'])\n",
        "ax = sns.heatmap(df_pivot, annot=True)\n",
        "plt.title('Распределение сенсорных слов в зависимости от чувства')\n",
        "plt.ylabel(\"Органы чувств\")\n",
        "plt.xlabel(\"Период\")\n",
        "plt.yticks(rotation=0)\n",
        "plt.gca().invert_xaxis()\n",
        "plt.savefig(\"senses.png\")\n",
        "plt.show()"
      ]
    },
    {
      "cell_type": "markdown",
      "metadata": {
        "id": "aRqW4LHA8k3N"
      },
      "source": [
        "# Устойчивая метафоричность"
      ]
    },
    {
      "cell_type": "code",
      "execution_count": null,
      "metadata": {
        "id": "_WAT8TaqASaI"
      },
      "outputs": [],
      "source": [
        "df_metaphor = pd.concat([df_xviii[\"Устойчивая метафоричность\"].value_counts(), df_xix[\"Устойчивая метафоричность\"].value_counts(),\n",
        "                    df_pre1950[\"Устойчивая метафоричность\"].value_counts(), df_post1950[\"Устойчивая метафоричность\"].value_counts()], axis=1)\n",
        "df_metaphor.columns = ['xviii', 'xix', 'pre1950', 'post1950']\n",
        "\n",
        "for index, row in df_metaphor.iterrows():\n",
        "  df_metaphor.at[index, \"xviii\"] = row[\"xviii\"]/df_xviii.shape[0]\n",
        "  df_metaphor.at[index, \"xix\"] = row[\"xix\"]/df_xix.shape[0]\n",
        "  df_metaphor.at[index, \"pre1950\"] = row[\"pre1950\"]/df_pre1950.shape[0]\n",
        "  df_metaphor.at[index, \"post1950\"] = row[\"post1950\"]/df_post1950.shape[0]\n",
        "df_metaphor"
      ]
    },
    {
      "cell_type": "code",
      "execution_count": null,
      "metadata": {
        "id": "8vHucHV9MU7p"
      },
      "outputs": [],
      "source": [
        "df_metaphor = df_metaphor.drop(df_metaphor[df_metaphor.index == 0].index)"
      ]
    },
    {
      "cell_type": "code",
      "execution_count": null,
      "metadata": {
        "id": "4JbG7zZlBDf6"
      },
      "outputs": [],
      "source": [
        "metaphor = df_metaphor.reset_index().melt('index', var_name='cols',  value_name='vals')\n",
        "ax = sns.barplot(x=\"vals\", y=\"cols\", hue='index', data=metaphor, palette=\"hls\")\n",
        "\n",
        "ax.set_ylabel('Период')\n",
        "ax.set_xlabel('Нормализованные значения слов по устойчивой метафоричности')\n",
        "ax.get_legend().remove()\n",
        "plt.title(\"Устойчивая метафоричность в подкорпусах\")\n",
        "plt.savefig(\"metaphors.png\")\n",
        "plt.show()"
      ]
    },
    {
      "cell_type": "markdown",
      "metadata": {
        "id": "5gWR93PQGhyi"
      },
      "source": [
        "# Что, если считать валидными только сенсорную лексику без устойчивой метафоричности?"
      ]
    },
    {
      "cell_type": "code",
      "execution_count": null,
      "metadata": {
        "id": "XKHGBlI3G9hT"
      },
      "outputs": [],
      "source": [
        "df_norm_no_metaphors = df_norm.drop(df_norm[df_norm['Устойчивая метафоричность'] == 1].index)"
      ]
    },
    {
      "cell_type": "markdown",
      "metadata": {
        "id": "Aw9U56KWL7qa"
      },
      "source": [
        "## Сенсорная эксклюзивность"
      ]
    },
    {
      "cell_type": "code",
      "execution_count": null,
      "metadata": {
        "id": "O6X9hvLGQ6nz"
      },
      "outputs": [],
      "source": [
        "df_xviii_no_metaphors = df_xviii.drop(df_xviii[df_xviii['Семантическая когорта'] == 'цвет'].index)\n",
        "df_xix_no_metaphors = df_xix.drop(df_xix[df_xix['Семантическая когорта'] == 'цвет'].index)\n",
        "df_pre1950_no_metaphors = df_pre1950.drop(df_pre1950[df_pre1950['Семантическая когорта'] == 'цвет'].index)\n",
        "df_post1950_no_metaphors = df_post1950.drop(df_post1950[df_post1950['Семантическая когорта'] == 'цвет'].index)"
      ]
    },
    {
      "cell_type": "code",
      "execution_count": null,
      "metadata": {
        "id": "_dAz6pHZccT9"
      },
      "outputs": [],
      "source": [
        "df_xviii_no_metaphors = df_xviii_no_metaphors.drop(df_xviii_no_metaphors[df_xviii_no_metaphors['xviii'] == 0].index)\n",
        "df_xix_no_metaphors = df_xix_no_metaphors.drop(df_xix_no_metaphors[df_xix_no_metaphors['xix'] == 0].index)\n",
        "df_pre1950_no_metaphors = df_pre1950_no_metaphors.drop(df_pre1950_no_metaphors[df_pre1950_no_metaphors['pre1950'] == 0].index)\n",
        "df_post1950_no_metaphors = df_post1950_no_metaphors.drop(df_post1950_no_metaphors[df_post1950_no_metaphors['post1950'] == 0].index)"
      ]
    },
    {
      "cell_type": "code",
      "execution_count": null,
      "metadata": {
        "id": "OfCARlXTKTUj"
      },
      "outputs": [],
      "source": [
        "df_xviii_no_metaphors = df_xviii_no_metaphors.reset_index()\n",
        "df_xix_no_metaphors = df_xix_no_metaphors.reset_index()\n",
        "df_pre1950_no_metaphors = df_pre1950_no_metaphors.reset_index()\n",
        "df_post1950_no_metaphors = df_post1950_no_metaphors.reset_index()"
      ]
    },
    {
      "cell_type": "code",
      "execution_count": null,
      "metadata": {
        "id": "WKJ2_nqiRFHE"
      },
      "outputs": [],
      "source": [
        "df_exclusivity_no_metaphors = pd.concat([df_xviii_no_metaphors[\"Сенсорная эксклюзивность\"].value_counts(), df_xix_no_metaphors[\"Сенсорная эксклюзивность\"].value_counts(),\n",
        "                    df_pre1950_no_metaphors[\"Сенсорная эксклюзивность\"].value_counts(), df_post1950_no_metaphors[\"Сенсорная эксклюзивность\"].value_counts()], axis=1)\n",
        "df_exclusivity_no_metaphors.columns = ['xviii', 'xix', 'pre1950', 'post1950']\n",
        "\n",
        "for index, row in df_exclusivity_no_metaphors.iterrows():\n",
        "  df_exclusivity_no_metaphors.at[index, \"xviii\"] = row[\"xviii\"]/df_xviii_no_metaphors.shape[0]\n",
        "  df_exclusivity_no_metaphors.at[index, \"xix\"] = row[\"xix\"]/df_xix_no_metaphors.shape[0]\n",
        "  df_exclusivity_no_metaphors.at[index, \"pre1950\"] = row[\"pre1950\"]/df_pre1950_no_metaphors.shape[0]\n",
        "  df_exclusivity_no_metaphors.at[index, \"post1950\"] = row[\"post1950\"]/df_post1950_no_metaphors.shape[0]\n",
        "\n",
        "exclusivity_no_metaphors = df_exclusivity_no_metaphors.reset_index().melt('index', var_name='cols',  value_name='vals')\n",
        "ax = sns.barplot(x=\"vals\", y=\"cols\", hue='index', data=exclusivity_no_metaphors, palette=\"hls\")\n",
        "\n",
        "ax.set_ylabel('Период')\n",
        "ax.set_xlabel('Нормализованные значения слов по сенсорной эксклюзивности')\n",
        "plt.title(\"Распределение слов по сенсорной эксклюзивности (без метафоричности)\")\n",
        "plt.legend(bbox_to_anchor=(1.02, 0.15), loc='lower left', borderaxespad=0, title=\"Сенсорная\\nэксклюзивность\")\n",
        "plt.savefig(\"sensory_exclusivity_no_metaphors.png\")\n",
        "plt.show()"
      ]
    },
    {
      "cell_type": "markdown",
      "metadata": {
        "id": "UnnwswhhN4h3"
      },
      "source": [
        "## Части речи"
      ]
    },
    {
      "cell_type": "code",
      "execution_count": null,
      "metadata": {
        "id": "LOlW-qY4N4Kp"
      },
      "outputs": [],
      "source": [
        "sns.displot(df_norm_no_metaphors, x=\"Часть речи\", hue=\"Часть речи\", binwidth=10)\n",
        "plt.title('Распределение слов по частям речи (весь корпус)', loc=\"left\")\n",
        "plt.tick_params(\n",
        "    axis='x',          # changes apply to the x-axis\n",
        "    which='both',      # both major and minor ticks are affected\n",
        "    bottom=False,      # ticks along the bottom edge are off\n",
        "    top=False,         # ticks along the top edge are off\n",
        "    labelbottom=False)\n",
        "plt.savefig(\"pos_all_corpus_no_metaphors.png\")\n",
        "plt.show()"
      ]
    },
    {
      "cell_type": "code",
      "execution_count": null,
      "metadata": {
        "id": "VO5wqTxHXhoJ"
      },
      "outputs": [],
      "source": [
        "df_pos_no_metaphors = pd.concat([df_xviii_no_metaphors[\"Часть речи\"].value_counts(), df_xix_no_metaphors[\"Часть речи\"].value_counts(),\n",
        "                    df_pre1950_no_metaphors[\"Часть речи\"].value_counts(), df_post1950_no_metaphors[\"Часть речи\"].value_counts()], axis=1)\n",
        "df_pos_no_metaphors.columns = ['xviii', 'xix', 'pre1950', 'post1950']\n",
        "\n",
        "for index, row in df_pos_no_metaphors.iterrows():\n",
        "  df_pos_no_metaphors.at[index, \"xviii\"] = row[\"xviii\"]/df_xviii_no_metaphors.shape[0]\n",
        "  df_pos_no_metaphors.at[index, \"xix\"] = row[\"xix\"]/df_xix_no_metaphors.shape[0]\n",
        "  df_pos_no_metaphors.at[index, \"pre1950\"] = row[\"pre1950\"]/df_pre1950_no_metaphors.shape[0]\n",
        "  df_pos_no_metaphors.at[index, \"post1950\"] = row[\"post1950\"]/df_post1950_no_metaphors.shape[0]"
      ]
    },
    {
      "cell_type": "code",
      "execution_count": null,
      "metadata": {
        "id": "zPArPjkVSSGV"
      },
      "outputs": [],
      "source": [
        "pos_no_metaphors = df_pos_no_metaphors.reset_index().melt('index', var_name='cols',  value_name='vals')\n",
        "ax = sns.barplot(x=\"vals\", y=\"cols\", hue='index', data=pos_no_metaphors, palette=\"hls\")\n",
        "\n",
        "ax.legend(\"Распределение слов по частям речи\")\n",
        "ax.set_ylabel('Период')\n",
        "ax.set_xlabel('Нормализованные значения слов по частям речи')\n",
        "plt.title(\"Распределение слов по частям речи (без метафоричности)\")\n",
        "plt.legend(bbox_to_anchor=(1.02, 0.15), loc='lower left', borderaxespad=0)\n",
        "plt.savefig(\"pos_periods_no_metaphors.png\")\n",
        "plt.show()"
      ]
    },
    {
      "cell_type": "markdown",
      "metadata": {
        "id": "YlEN9yAwOw38"
      },
      "source": [
        "## Семантические когорты"
      ]
    },
    {
      "cell_type": "code",
      "execution_count": null,
      "metadata": {
        "id": "4jCREPXJMCWg"
      },
      "outputs": [],
      "source": [
        "df_cohort_no_metaphors = pd.concat([df_xviii_no_metaphors[\"Семантическая когорта\"].value_counts(), df_xix_no_metaphors[\"Семантическая когорта\"].value_counts(),\n",
        "                    df_pre1950_no_metaphors[\"Семантическая когорта\"].value_counts(), df_post1950_no_metaphors[\"Семантическая когорта\"].value_counts()], axis=1)\n",
        "df_cohort_no_metaphors.columns = ['xviii', 'xix', 'pre1950', 'post1950']\n",
        "\n",
        "for index, row in df_cohort_no_metaphors.iterrows():\n",
        "  df_cohort_no_metaphors.at[index, \"xviii\"] = row[\"xviii\"]/df_xviii_no_metaphors.shape[0]\n",
        "  df_cohort_no_metaphors.at[index, \"xix\"] = row[\"xix\"]/df_xix_no_metaphors.shape[0]\n",
        "  df_cohort_no_metaphors.at[index, \"pre1950\"] = row[\"pre1950\"]/df_pre1950_no_metaphors.shape[0]\n",
        "  df_cohort_no_metaphors.at[index, \"post1950\"] = row[\"post1950\"]/df_post1950_no_metaphors.shape[0]"
      ]
    },
    {
      "cell_type": "code",
      "execution_count": null,
      "metadata": {
        "id": "76vgFXiLTCSy"
      },
      "outputs": [],
      "source": [
        "df_cohort_no_metaphors[\"Семантическая когорта\"] = df_cohort_no_metaphors.index\n",
        "df_pivot = df_cohort_no_metaphors.pivot_table(columns='Семантическая когорта', values=['xviii', 'xix', 'pre1950', 'post1950'])\n",
        "top = df_pivot.sum().nlargest(50).index.tolist()\n",
        "sns.heatmap(df_pivot.loc[:, top].transpose(), cmap='YlGnBu', annot=True)\n",
        "plt.title('Соотношение семантических когорт (без метафоричности)')\n",
        "plt.xlabel('Период')\n",
        "plt.gca().invert_xaxis()\n",
        "plt.savefig(\"cohorts_no_metaphors.png\")\n",
        "plt.show()"
      ]
    },
    {
      "cell_type": "code",
      "execution_count": null,
      "metadata": {
        "id": "HYwvusMPO1z8"
      },
      "outputs": [],
      "source": [
        "ax = sns.countplot(data=df_norm_no_metaphors, x=\"Семантическая когорта\", order=df_norm_no_metaphors[\"Семантическая когорта\"].value_counts().index[:20])\n",
        "ax.set_title('Семантические когорты (весь корпус - без метафоричности)')\n",
        "plt.xticks(rotation=45)\n",
        "plt.savefig(\"cohorts_all_corpus_no_metaphors.png\")\n",
        "plt.show()"
      ]
    },
    {
      "cell_type": "code",
      "execution_count": null,
      "metadata": {
        "id": "R6Qx3a-9PA0I"
      },
      "outputs": [],
      "source": [
        "df_cohort_no_metaphors = pd.concat([df_xviii_no_metaphors[\"Семантическая когорта\"].value_counts(), df_xix_no_metaphors[\"Семантическая когорта\"].value_counts(),\n",
        "                    df_pre1950_no_metaphors[\"Семантическая когорта\"].value_counts(), df_post1950_no_metaphors[\"Семантическая когорта\"].value_counts()], axis=1)\n",
        "df_cohort_no_metaphors.columns = ['xviii', 'xix', 'pre1950', 'post1950']\n",
        "\n",
        "for index, row in df_cohort_no_metaphors.iterrows():\n",
        "  df_cohort_no_metaphors.at[index, \"xviii\"] = row[\"xviii\"]/df_xviii_no_metaphors.shape[0]\n",
        "  df_cohort_no_metaphors.at[index, \"xix\"] = row[\"xix\"]/df_xix_no_metaphors.shape[0]\n",
        "  df_cohort_no_metaphors.at[index, \"pre1950\"] = row[\"pre1950\"]/df_pre1950_no_metaphors.shape[0]\n",
        "  df_cohort_no_metaphors.at[index, \"post1950\"] = row[\"post1950\"]/df_post1950_no_metaphors.shape[0]\n",
        "\n",
        "cohort_no_metaphors = df_cohort_no_metaphors.reset_index().melt('index', var_name='cols',  value_name='vals')\n",
        "ax = sns.barplot(x=\"vals\", y=\"cols\", hue='index', data=cohort_no_metaphors, palette=\"hls\")\n",
        "\n",
        "ax.set_ylabel('Период')\n",
        "ax.set_xlabel('Нормализованные значения слов по семантическим когортам')\n",
        "plt.title(\"Распределение слов по семантическим когортам (без метафоричности)\")\n",
        "plt.legend(bbox_to_anchor=(1.02, 0.15), loc='lower left', borderaxespad=0)\n",
        "plt.savefig(\"cohort_periods_no_metaphors.png\")\n",
        "plt.show()"
      ]
    },
    {
      "cell_type": "code",
      "execution_count": null,
      "metadata": {
        "id": "hRWsDUC-OuLW"
      },
      "outputs": [],
      "source": [
        "sns.boxplot(data=df_cohort_no_metaphors)\n",
        "plt.title('Разнообразие семантических когорт в зависимости от периода')\n",
        "plt.savefig(\"cohort_boxplot_no_metaphors.png\")\n",
        "plt.show()"
      ]
    },
    {
      "cell_type": "markdown",
      "metadata": {
        "id": "BTHNTv-_R9a6"
      },
      "source": [
        "## Органы чувств"
      ]
    },
    {
      "cell_type": "code",
      "execution_count": null,
      "metadata": {
        "id": "oL7EMWikSsNG"
      },
      "outputs": [],
      "source": [
        "df_vision_no_metaphors = pd.concat([df_xviii_no_metaphors[\"Зрение\"].value_counts(), df_xix_no_metaphors[\"Зрение\"].value_counts(),\n",
        "                    df_pre1950_no_metaphors[\"Зрение\"].value_counts(), df_post1950_no_metaphors[\"Зрение\"].value_counts()], axis=1)\n",
        "df_vision_no_metaphors.columns = ['xviii', 'xix', 'pre1950', 'post1950']\n",
        "\n",
        "df_hearing_no_metaphors = pd.concat([df_xviii_no_metaphors[\"Слух\"].value_counts(), df_xix_no_metaphors[\"Слух\"].value_counts(),\n",
        "                    df_pre1950_no_metaphors[\"Слух\"].value_counts(), df_post1950_no_metaphors[\"Слух\"].value_counts()], axis=1)\n",
        "df_hearing_no_metaphors.columns = ['xviii', 'xix', 'pre1950', 'post1950']\n",
        "\n",
        "df_taste_no_metaphors = pd.concat([df_xviii_no_metaphors[\"Вкус\"].value_counts(), df_xix_no_metaphors[\"Вкус\"].value_counts(),\n",
        "                    df_pre1950_no_metaphors[\"Вкус\"].value_counts(), df_post1950_no_metaphors[\"Вкус\"].value_counts()], axis=1)\n",
        "df_taste_no_metaphors.columns = ['xviii', 'xix', 'pre1950', 'post1950']\n",
        "\n",
        "df_olfactory_no_metaphors = pd.concat([df_xviii_no_metaphors[\"Запах\"].value_counts(), df_xix_no_metaphors[\"Запах\"].value_counts(),\n",
        "                    df_pre1950_no_metaphors[\"Запах\"].value_counts(), df_post1950_no_metaphors[\"Запах\"].value_counts()], axis=1)\n",
        "df_olfactory_no_metaphors.columns = ['xviii', 'xix', 'pre1950', 'post1950']\n",
        "\n",
        "df_touch_no_metaphors = pd.concat([df_xviii_no_metaphors[\"Осязание\"].value_counts(), df_xix_no_metaphors[\"Осязание\"].value_counts(),\n",
        "                    df_pre1950_no_metaphors[\"Осязание\"].value_counts(), df_post1950_no_metaphors[\"Осязание\"].value_counts()], axis=1)\n",
        "df_touch_no_metaphors.columns = ['xviii', 'xix', 'pre1950', 'post1950']\n",
        "\n",
        "df_senses_no_metaphors = pd.concat([df_vision_no_metaphors, df_hearing_no_metaphors, df_taste_no_metaphors, df_olfactory_no_metaphors, df_touch_no_metaphors], keys=['зрение', 'слух', 'вкус', 'запах', 'осязание'])\n",
        "\n",
        "for index, row in df_senses_no_metaphors.iterrows():\n",
        "  df_senses_no_metaphors.at[index, \"xviii\"] = row[\"xviii\"]/df_xviii_no_metaphors.shape[0]\n",
        "  df_senses_no_metaphors.at[index, \"xix\"] = row[\"xix\"]/df_xix_no_metaphors.shape[0]\n",
        "  df_senses_no_metaphors.at[index, \"pre1950\"] = row[\"pre1950\"]/df_pre1950_no_metaphors.shape[0]\n",
        "  df_senses_no_metaphors.at[index, \"post1950\"] = row[\"post1950\"]/df_post1950_no_metaphors.shape[0]"
      ]
    },
    {
      "cell_type": "code",
      "execution_count": null,
      "metadata": {
        "id": "E9XXp2QzTrHv"
      },
      "outputs": [],
      "source": [
        "df_senses_no_metaphors = df_senses_no_metaphors.drop(df_senses_no_metaphors[df_senses_no_metaphors.index == ('вкус', 0)].index)\n",
        "df_senses_no_metaphors = df_senses_no_metaphors.drop(df_senses_no_metaphors[df_senses_no_metaphors.index == ('зрение', 0)].index)\n",
        "df_senses_no_metaphors = df_senses_no_metaphors.drop(df_senses_no_metaphors[df_senses_no_metaphors.index == ('слух', 0)].index)\n",
        "df_senses_no_metaphors = df_senses_no_metaphors.drop(df_senses_no_metaphors[df_senses_no_metaphors.index == ('запах', 0)].index)\n",
        "df_senses_no_metaphors = df_senses_no_metaphors.drop(df_senses_no_metaphors[df_senses_no_metaphors.index == ('осязание', 0)].index)"
      ]
    },
    {
      "cell_type": "code",
      "execution_count": null,
      "metadata": {
        "id": "LtjkKjyVT6k7"
      },
      "outputs": [],
      "source": [
        "feelings = [\"зрение\", \"слух\", \"вкус\", \"запах\", \"осязание\"]\n",
        "df_senses_no_metaphors[\"Чувство\"] = feelings"
      ]
    },
    {
      "cell_type": "code",
      "execution_count": null,
      "metadata": {
        "id": "kHaJnsrXZkiO"
      },
      "outputs": [],
      "source": [
        "df_pivot = df_senses.pivot_table(index=df_senses[\"Чувство\"], values=['xviii', 'xix', 'pre1950', 'post1950'])\n",
        "ax = sns.heatmap(df_pivot, annot=True)\n",
        "plt.title('Распределение сенсорных слов в зависимости от чувства')\n",
        "plt.ylabel(\"Органы чувств\")\n",
        "plt.xlabel(\"Период\")\n",
        "plt.yticks(rotation=0)\n",
        "plt.gca().invert_xaxis()\n",
        "plt.savefig(\"senses_no_metaphors.png\")\n",
        "plt.show()"
      ]
    },
    {
      "cell_type": "markdown",
      "metadata": {
        "id": "gOgwnBqR3IgG"
      },
      "source": [
        "# Цвет"
      ]
    },
    {
      "cell_type": "code",
      "execution_count": null,
      "metadata": {
        "id": "E2m_sb9N40sM"
      },
      "outputs": [],
      "source": [
        "source = pd.read_csv(\"colors.csv\")"
      ]
    },
    {
      "cell_type": "code",
      "execution_count": null,
      "metadata": {
        "id": "jO6QdJuh45_I"
      },
      "outputs": [],
      "source": [
        "for index, row in colors.iterrows():\n",
        "    if row[\"Слово\"] in source[\"Белый\"].values:\n",
        "      colors.at[index, \"Цвет\"] = \"белый\"\n",
        "    if row[\"Слово\"] in source[\"Чёрный\"].values:\n",
        "      colors.at[index, \"Цвет\"] = \"чёрный\"\n",
        "    if row[\"Слово\"] in source[\"Коричневый\"].values:\n",
        "      colors.at[index, \"Цвет\"] = \"коричневый\"\n",
        "    if row[\"Слово\"] in source[\"Синий\"].values:\n",
        "      colors.at[index, \"Цвет\"] = \"синий\"\n",
        "    if row[\"Слово\"] in source[\"Голубой\"].values:\n",
        "      colors.at[index, \"Цвет\"] = \"голубой\"\n",
        "    if row[\"Слово\"] in source[\"Зелёный\"].values:\n",
        "      colors.at[index, \"Цвет\"] = \"зелёный\"\n",
        "    if row[\"Слово\"] in source[\"Фиолетовый\"].values:\n",
        "      colors.at[index, \"Цвет\"] = \"фиолетовый\"\n",
        "    if row[\"Слово\"] in source[\"Серый\"].values:\n",
        "      colors.at[index, \"Цвет\"] = \"серый\"\n",
        "    if row[\"Слово\"] in source[\"Розовый\"].values:\n",
        "      colors.at[index, \"Цвет\"] = \"розовый\"\n",
        "    if row[\"Слово\"] in source[\"Оранжевый\"].values:\n",
        "      colors.at[index, \"Цвет\"] = \"оранжевый\"\n",
        "    if row[\"Слово\"] in source[\"Красный\"].values:\n",
        "      colors.at[index, \"Цвет\"] = \"красный\"\n",
        "    if row[\"Слово\"] in source[\"Бежевый\"].values:\n",
        "      colors.at[index, \"Цвет\"] = \"бежевый\"\n",
        "    if row[\"Слово\"] in source[\"Жёлтый\"].values:\n",
        "      colors.at[index, \"Цвет\"] = \"жёлтый\"\n",
        "    if row[\"Слово\"] in source[\"Золотой\"].values:\n",
        "      colors.at[index, \"Цвет\"] = \"золотой\"\n",
        "    if row[\"Слово\"] in source[\"Серебряный\"].values:\n",
        "      colors.at[index, \"Цвет\"] = \"серебряный\""
      ]
    },
    {
      "cell_type": "code",
      "execution_count": null,
      "metadata": {
        "id": "xO9YOaG_K08x"
      },
      "outputs": [],
      "source": [
        "colors.loc[(colors[\"Цвет\"] == \"красный\")]"
      ]
    },
    {
      "cell_type": "code",
      "execution_count": null,
      "metadata": {
        "id": "BhpSblj1Gq8Z"
      },
      "outputs": [],
      "source": [
        "df_xviii_colors = colors.drop(columns=[\"xix\", \"pre1950\", \"post1950\"])\n",
        "df_xix_colors = colors.drop(columns=[\"xviii\", \"pre1950\", \"post1950\"])\n",
        "df_pre1950_colors = colors.drop(columns=[\"xviii\", \"xix\", \"post1950\"])\n",
        "df_post1950_colors = colors.drop(columns=[\"xviii\", \"xix\", \"pre1950\"])"
      ]
    },
    {
      "cell_type": "code",
      "execution_count": null,
      "metadata": {
        "id": "FyUKHaxEYnwh"
      },
      "outputs": [],
      "source": [
        "df_xviii_colors = df_xviii_colors.drop(df_xviii_colors[df_xviii_colors['xviii'] == 0].index)\n",
        "df_xix_colors = df_xix_colors.drop(df_xix_colors[df_xix_colors['xix'] == 0].index)\n",
        "df_pre1950_colors = df_pre1950_colors.drop(df_pre1950_colors[df_pre1950_colors['pre1950'] == 0].index)\n",
        "df_post1950_colors = df_post1950_colors.drop(df_post1950_colors[df_post1950_colors['post1950'] == 0].index)"
      ]
    },
    {
      "cell_type": "code",
      "execution_count": null,
      "metadata": {
        "id": "u3fyPE0II6Oo"
      },
      "outputs": [],
      "source": [
        "df_xviii_colors = df_xviii_colors.reset_index()\n",
        "df_xix_colors = df_xix_colors.reset_index()\n",
        "df_pre1950_colors = df_pre1950_colors.reset_index()\n",
        "df_post1950_colors = df_post1950_colors.reset_index()"
      ]
    },
    {
      "cell_type": "code",
      "execution_count": null,
      "metadata": {
        "id": "vRc3oEsKYOy5"
      },
      "outputs": [],
      "source": [
        "df_xviii_colors"
      ]
    },
    {
      "cell_type": "code",
      "execution_count": null,
      "metadata": {
        "id": "N6QdSt6_FVt6"
      },
      "outputs": [],
      "source": [
        "df_colors = pd.concat([df_xviii_colors[\"Цвет\"].value_counts(), df_xix_colors[\"Цвет\"].value_counts(),\n",
        "                    df_pre1950_colors[\"Цвет\"].value_counts(), df_post1950_colors[\"Цвет\"].value_counts()], axis=1)\n",
        "df_colors.columns = ['xviii', 'xix', 'pre1950', 'post1950']\n",
        "\n",
        "for index, row in df_colors.iterrows():\n",
        "  df_colors.at[index, \"xviii\"] = row[\"xviii\"]/df_xviii_colors.shape[0]\n",
        "  df_colors.at[index, \"xix\"] = row[\"xix\"]/df_xix_colors.shape[0]\n",
        "  df_colors.at[index, \"pre1950\"] = row[\"pre1950\"]/df_pre1950_colors.shape[0]\n",
        "  df_colors.at[index, \"post1950\"] = row[\"post1950\"]/df_post1950_colors.shape[0]\n",
        "\n",
        "#df_colors[\"Цвет\"] = df_colors.index\n",
        "df_colors"
      ]
    },
    {
      "cell_type": "code",
      "execution_count": null,
      "metadata": {
        "id": "bjCd3HkmGFMt"
      },
      "outputs": [],
      "source": [
        "df_pivot = df_colors.pivot_table(index=df_colors.index, values=['xviii', 'xix', 'pre1950', 'post1950'])\n",
        "ax = sns.heatmap(df_colors, annot=True)\n",
        "plt.title('Тепловая карта слов, связанных с цветом')\n",
        "plt.ylabel(\"Цвета\")\n",
        "plt.xlabel(\"Период\")\n",
        "plt.yticks(rotation=0)\n",
        "plt.savefig(\"colors.png\")\n",
        "plt.show()"
      ]
    }
  ],
  "metadata": {
    "colab": {
      "provenance": []
    },
    "kernelspec": {
      "display_name": "Python 3",
      "name": "python3"
    },
    "language_info": {
      "name": "python"
    }
  },
  "nbformat": 4,
  "nbformat_minor": 0
}