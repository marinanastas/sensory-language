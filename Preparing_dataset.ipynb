{
  "nbformat": 4,
  "nbformat_minor": 0,
  "metadata": {
    "colab": {
      "provenance": []
    },
    "kernelspec": {
      "name": "python3",
      "display_name": "Python 3"
    },
    "language_info": {
      "name": "python"
    }
  },
  "cells": [
    {
      "cell_type": "code",
      "execution_count": null,
      "metadata": {
        "id": "WC-ifBL_Zux6"
      },
      "outputs": [],
      "source": [
        "import pandas as pd\n",
        "import matplotlib.pyplot as plt\n",
        "import seaborn as sns"
      ]
    },
    {
      "cell_type": "code",
      "source": [
        "from google.colab import drive\n",
        "drive.mount('/content/drive')"
      ],
      "metadata": {
        "colab": {
          "base_uri": "https://localhost:8080/"
        },
        "id": "e_J0Gjm1KtB7",
        "outputId": "029101f7-376a-42de-b1a0-ebc7c9522cc8"
      },
      "execution_count": null,
      "outputs": [
        {
          "output_type": "stream",
          "name": "stdout",
          "text": [
            "Mounted at /content/drive\n"
          ]
        }
      ]
    },
    {
      "cell_type": "code",
      "source": [
        "cd /content/drive/MyDrive/DH/Диплом/"
      ],
      "metadata": {
        "colab": {
          "base_uri": "https://localhost:8080/"
        },
        "id": "gHFkizOLLQ43",
        "outputId": "9d77ee1d-9bac-4536-fa49-bf66aa9ace71"
      },
      "execution_count": null,
      "outputs": [
        {
          "output_type": "stream",
          "name": "stdout",
          "text": [
            "/content/drive/MyDrive/DH/Диплом\n"
          ]
        }
      ]
    },
    {
      "cell_type": "code",
      "source": [
        "df = pd.read_csv(\"sensory_language_3.csv\")"
      ],
      "metadata": {
        "id": "QvDIXrsVaDKp"
      },
      "execution_count": null,
      "outputs": []
    },
    {
      "cell_type": "code",
      "source": [
        "new_cohorts = pd.read_csv(\"new_cohorts.csv\")"
      ],
      "metadata": {
        "id": "-DhqafGAi2FN"
      },
      "execution_count": null,
      "outputs": []
    },
    {
      "cell_type": "code",
      "source": [
        "new_cohorts = new_cohorts.fillna(0)\n",
        "new_cohorts = new_cohorts.drop(new_cohorts[new_cohorts['Семантическая когорта'] == 0].index)\n",
        "new_cohorts"
      ],
      "metadata": {
        "colab": {
          "base_uri": "https://localhost:8080/",
          "height": 423
        },
        "id": "3hko4G6yjyId",
        "outputId": "ebf4b30d-5aa1-4d90-f12d-5996aa38615c"
      },
      "execution_count": null,
      "outputs": [
        {
          "output_type": "execute_result",
          "data": {
            "text/plain": [
              "                Слово Семантическая когорта\n",
              "0        алебастровый                  цвет\n",
              "1         ало-красный                  цвет\n",
              "6                алый                  цвет\n",
              "8               амбре                 запах\n",
              "9         аметистовый                  цвет\n",
              "...               ...                   ...\n",
              "1705   ярко-оранжевый                  цвет\n",
              "1706     ярко-розовый                  цвет\n",
              "1707       ярко-синий                  цвет\n",
              "1708  ярко-фиолетовый                  цвет\n",
              "1710          яркость               яркость\n",
              "\n",
              "[1024 rows x 2 columns]"
            ],
            "text/html": [
              "\n",
              "  <div id=\"df-275102a8-fe2c-4e5b-bf00-1c7025c8a805\">\n",
              "    <div class=\"colab-df-container\">\n",
              "      <div>\n",
              "<style scoped>\n",
              "    .dataframe tbody tr th:only-of-type {\n",
              "        vertical-align: middle;\n",
              "    }\n",
              "\n",
              "    .dataframe tbody tr th {\n",
              "        vertical-align: top;\n",
              "    }\n",
              "\n",
              "    .dataframe thead th {\n",
              "        text-align: right;\n",
              "    }\n",
              "</style>\n",
              "<table border=\"1\" class=\"dataframe\">\n",
              "  <thead>\n",
              "    <tr style=\"text-align: right;\">\n",
              "      <th></th>\n",
              "      <th>Слово</th>\n",
              "      <th>Семантическая когорта</th>\n",
              "    </tr>\n",
              "  </thead>\n",
              "  <tbody>\n",
              "    <tr>\n",
              "      <th>0</th>\n",
              "      <td>алебастровый</td>\n",
              "      <td>цвет</td>\n",
              "    </tr>\n",
              "    <tr>\n",
              "      <th>1</th>\n",
              "      <td>ало-красный</td>\n",
              "      <td>цвет</td>\n",
              "    </tr>\n",
              "    <tr>\n",
              "      <th>6</th>\n",
              "      <td>алый</td>\n",
              "      <td>цвет</td>\n",
              "    </tr>\n",
              "    <tr>\n",
              "      <th>8</th>\n",
              "      <td>амбре</td>\n",
              "      <td>запах</td>\n",
              "    </tr>\n",
              "    <tr>\n",
              "      <th>9</th>\n",
              "      <td>аметистовый</td>\n",
              "      <td>цвет</td>\n",
              "    </tr>\n",
              "    <tr>\n",
              "      <th>...</th>\n",
              "      <td>...</td>\n",
              "      <td>...</td>\n",
              "    </tr>\n",
              "    <tr>\n",
              "      <th>1705</th>\n",
              "      <td>ярко-оранжевый</td>\n",
              "      <td>цвет</td>\n",
              "    </tr>\n",
              "    <tr>\n",
              "      <th>1706</th>\n",
              "      <td>ярко-розовый</td>\n",
              "      <td>цвет</td>\n",
              "    </tr>\n",
              "    <tr>\n",
              "      <th>1707</th>\n",
              "      <td>ярко-синий</td>\n",
              "      <td>цвет</td>\n",
              "    </tr>\n",
              "    <tr>\n",
              "      <th>1708</th>\n",
              "      <td>ярко-фиолетовый</td>\n",
              "      <td>цвет</td>\n",
              "    </tr>\n",
              "    <tr>\n",
              "      <th>1710</th>\n",
              "      <td>яркость</td>\n",
              "      <td>яркость</td>\n",
              "    </tr>\n",
              "  </tbody>\n",
              "</table>\n",
              "<p>1024 rows × 2 columns</p>\n",
              "</div>\n",
              "      <button class=\"colab-df-convert\" onclick=\"convertToInteractive('df-275102a8-fe2c-4e5b-bf00-1c7025c8a805')\"\n",
              "              title=\"Convert this dataframe to an interactive table.\"\n",
              "              style=\"display:none;\">\n",
              "        \n",
              "  <svg xmlns=\"http://www.w3.org/2000/svg\" height=\"24px\"viewBox=\"0 0 24 24\"\n",
              "       width=\"24px\">\n",
              "    <path d=\"M0 0h24v24H0V0z\" fill=\"none\"/>\n",
              "    <path d=\"M18.56 5.44l.94 2.06.94-2.06 2.06-.94-2.06-.94-.94-2.06-.94 2.06-2.06.94zm-11 1L8.5 8.5l.94-2.06 2.06-.94-2.06-.94L8.5 2.5l-.94 2.06-2.06.94zm10 10l.94 2.06.94-2.06 2.06-.94-2.06-.94-.94-2.06-.94 2.06-2.06.94z\"/><path d=\"M17.41 7.96l-1.37-1.37c-.4-.4-.92-.59-1.43-.59-.52 0-1.04.2-1.43.59L10.3 9.45l-7.72 7.72c-.78.78-.78 2.05 0 2.83L4 21.41c.39.39.9.59 1.41.59.51 0 1.02-.2 1.41-.59l7.78-7.78 2.81-2.81c.8-.78.8-2.07 0-2.86zM5.41 20L4 18.59l7.72-7.72 1.47 1.35L5.41 20z\"/>\n",
              "  </svg>\n",
              "      </button>\n",
              "      \n",
              "  <style>\n",
              "    .colab-df-container {\n",
              "      display:flex;\n",
              "      flex-wrap:wrap;\n",
              "      gap: 12px;\n",
              "    }\n",
              "\n",
              "    .colab-df-convert {\n",
              "      background-color: #E8F0FE;\n",
              "      border: none;\n",
              "      border-radius: 50%;\n",
              "      cursor: pointer;\n",
              "      display: none;\n",
              "      fill: #1967D2;\n",
              "      height: 32px;\n",
              "      padding: 0 0 0 0;\n",
              "      width: 32px;\n",
              "    }\n",
              "\n",
              "    .colab-df-convert:hover {\n",
              "      background-color: #E2EBFA;\n",
              "      box-shadow: 0px 1px 2px rgba(60, 64, 67, 0.3), 0px 1px 3px 1px rgba(60, 64, 67, 0.15);\n",
              "      fill: #174EA6;\n",
              "    }\n",
              "\n",
              "    [theme=dark] .colab-df-convert {\n",
              "      background-color: #3B4455;\n",
              "      fill: #D2E3FC;\n",
              "    }\n",
              "\n",
              "    [theme=dark] .colab-df-convert:hover {\n",
              "      background-color: #434B5C;\n",
              "      box-shadow: 0px 1px 3px 1px rgba(0, 0, 0, 0.15);\n",
              "      filter: drop-shadow(0px 1px 2px rgba(0, 0, 0, 0.3));\n",
              "      fill: #FFFFFF;\n",
              "    }\n",
              "  </style>\n",
              "\n",
              "      <script>\n",
              "        const buttonEl =\n",
              "          document.querySelector('#df-275102a8-fe2c-4e5b-bf00-1c7025c8a805 button.colab-df-convert');\n",
              "        buttonEl.style.display =\n",
              "          google.colab.kernel.accessAllowed ? 'block' : 'none';\n",
              "\n",
              "        async function convertToInteractive(key) {\n",
              "          const element = document.querySelector('#df-275102a8-fe2c-4e5b-bf00-1c7025c8a805');\n",
              "          const dataTable =\n",
              "            await google.colab.kernel.invokeFunction('convertToInteractive',\n",
              "                                                     [key], {});\n",
              "          if (!dataTable) return;\n",
              "\n",
              "          const docLinkHtml = 'Like what you see? Visit the ' +\n",
              "            '<a target=\"_blank\" href=https://colab.research.google.com/notebooks/data_table.ipynb>data table notebook</a>'\n",
              "            + ' to learn more about interactive tables.';\n",
              "          element.innerHTML = '';\n",
              "          dataTable['output_type'] = 'display_data';\n",
              "          await google.colab.output.renderOutput(dataTable, element);\n",
              "          const docLink = document.createElement('div');\n",
              "          docLink.innerHTML = docLinkHtml;\n",
              "          element.appendChild(docLink);\n",
              "        }\n",
              "      </script>\n",
              "    </div>\n",
              "  </div>\n",
              "  "
            ]
          },
          "metadata": {},
          "execution_count": 6
        }
      ]
    },
    {
      "cell_type": "code",
      "source": [
        "df = df.drop(columns=[\"Unnamed: 0\"])"
      ],
      "metadata": {
        "id": "gqtBsMPgZ-Zi"
      },
      "execution_count": null,
      "outputs": []
    },
    {
      "cell_type": "code",
      "source": [
        "df = df.join(new_cohorts.set_index('Слово'), on='Слово', how='left', lsuffix='_left', rsuffix='_right')\n",
        "df = df.fillna(0)\n",
        "df = df.drop(df[df['Семантическая когорта_right'] == 0].index)\n",
        "df = df.drop(columns=[\"Семантическая когорта_left\"])\n",
        "df = df.rename(columns={'Семантическая когорта_right': 'Семантическая когорта'})\n",
        "df"
      ],
      "metadata": {
        "colab": {
          "base_uri": "https://localhost:8080/",
          "height": 519
        },
        "id": "p6n4f91Tka0T",
        "outputId": "1621b59e-d522-4d03-bec3-43b215920a91"
      },
      "execution_count": null,
      "outputs": [
        {
          "output_type": "execute_result",
          "data": {
            "text/plain": [
              "                Слово       Часть речи  Сенсорная эксклюзивность  Осязание  \\\n",
              "3            агатовый   прилагательное                         1         0   \n",
              "7        алебастровый   прилагательное                         1         0   \n",
              "8         ало-красный   прилагательное                         1         0   \n",
              "9                алый   прилагательное                         1         0   \n",
              "10              амбре  существительное                         1         0   \n",
              "...               ...              ...                       ...       ...   \n",
              "2803   ярко-оранжевый   прилагательное                         1         0   \n",
              "2804     ярко-розовый   прилагательное                         1         0   \n",
              "2805       ярко-синий   прилагательное                         1         0   \n",
              "2806  ярко-фиолетовый   прилагательное                         1         0   \n",
              "2808          яркость  существительное                         0         0   \n",
              "\n",
              "      Зрение  Вкус  Слух  Запах  Устойчивая метафоричность Дополнительно  \\\n",
              "3          1     0     0      0                          0             0   \n",
              "7          1     0     0      0                          0             0   \n",
              "8          1     0     0      0                          0             0   \n",
              "9          1     0     0      0                          0             0   \n",
              "10         0     0     0      1                          0             0   \n",
              "...      ...   ...   ...    ...                        ...           ...   \n",
              "2803       1     0     0      0                          0             0   \n",
              "2804       1     0     0      0                          0             0   \n",
              "2805       1     0     0      0                          0             0   \n",
              "2806       1     0     0      0                          0             0   \n",
              "2808       1     1     1      1                          0             0   \n",
              "\n",
              "      xviii    xix  pre1950  post1950 Семантическая когорта  \n",
              "3       3.0   33.0     44.0     160.0                  цвет  \n",
              "7      16.0  101.0     75.0      92.0                  цвет  \n",
              "8       0.0    0.0      2.0       1.0                  цвет  \n",
              "9      40.0  427.0    934.0    1707.0                  цвет  \n",
              "10      1.0   14.0      5.0      38.0                 запах  \n",
              "...     ...    ...      ...       ...                   ...  \n",
              "2803    0.0   14.0     18.0     132.0                  цвет  \n",
              "2804    0.0   23.0     45.0     120.0                  цвет  \n",
              "2805    0.0   15.0     98.0     277.0                  цвет  \n",
              "2806    0.0    3.0      5.0      13.0                  цвет  \n",
              "2808    2.0  390.0    839.0    1416.0               яркость  \n",
              "\n",
              "[1028 rows x 15 columns]"
            ],
            "text/html": [
              "\n",
              "  <div id=\"df-167d96c8-5a6a-48ff-ad77-ef62a2261fbe\">\n",
              "    <div class=\"colab-df-container\">\n",
              "      <div>\n",
              "<style scoped>\n",
              "    .dataframe tbody tr th:only-of-type {\n",
              "        vertical-align: middle;\n",
              "    }\n",
              "\n",
              "    .dataframe tbody tr th {\n",
              "        vertical-align: top;\n",
              "    }\n",
              "\n",
              "    .dataframe thead th {\n",
              "        text-align: right;\n",
              "    }\n",
              "</style>\n",
              "<table border=\"1\" class=\"dataframe\">\n",
              "  <thead>\n",
              "    <tr style=\"text-align: right;\">\n",
              "      <th></th>\n",
              "      <th>Слово</th>\n",
              "      <th>Часть речи</th>\n",
              "      <th>Сенсорная эксклюзивность</th>\n",
              "      <th>Осязание</th>\n",
              "      <th>Зрение</th>\n",
              "      <th>Вкус</th>\n",
              "      <th>Слух</th>\n",
              "      <th>Запах</th>\n",
              "      <th>Устойчивая метафоричность</th>\n",
              "      <th>Дополнительно</th>\n",
              "      <th>xviii</th>\n",
              "      <th>xix</th>\n",
              "      <th>pre1950</th>\n",
              "      <th>post1950</th>\n",
              "      <th>Семантическая когорта</th>\n",
              "    </tr>\n",
              "  </thead>\n",
              "  <tbody>\n",
              "    <tr>\n",
              "      <th>3</th>\n",
              "      <td>агатовый</td>\n",
              "      <td>прилагательное</td>\n",
              "      <td>1</td>\n",
              "      <td>0</td>\n",
              "      <td>1</td>\n",
              "      <td>0</td>\n",
              "      <td>0</td>\n",
              "      <td>0</td>\n",
              "      <td>0</td>\n",
              "      <td>0</td>\n",
              "      <td>3.0</td>\n",
              "      <td>33.0</td>\n",
              "      <td>44.0</td>\n",
              "      <td>160.0</td>\n",
              "      <td>цвет</td>\n",
              "    </tr>\n",
              "    <tr>\n",
              "      <th>7</th>\n",
              "      <td>алебастровый</td>\n",
              "      <td>прилагательное</td>\n",
              "      <td>1</td>\n",
              "      <td>0</td>\n",
              "      <td>1</td>\n",
              "      <td>0</td>\n",
              "      <td>0</td>\n",
              "      <td>0</td>\n",
              "      <td>0</td>\n",
              "      <td>0</td>\n",
              "      <td>16.0</td>\n",
              "      <td>101.0</td>\n",
              "      <td>75.0</td>\n",
              "      <td>92.0</td>\n",
              "      <td>цвет</td>\n",
              "    </tr>\n",
              "    <tr>\n",
              "      <th>8</th>\n",
              "      <td>ало-красный</td>\n",
              "      <td>прилагательное</td>\n",
              "      <td>1</td>\n",
              "      <td>0</td>\n",
              "      <td>1</td>\n",
              "      <td>0</td>\n",
              "      <td>0</td>\n",
              "      <td>0</td>\n",
              "      <td>0</td>\n",
              "      <td>0</td>\n",
              "      <td>0.0</td>\n",
              "      <td>0.0</td>\n",
              "      <td>2.0</td>\n",
              "      <td>1.0</td>\n",
              "      <td>цвет</td>\n",
              "    </tr>\n",
              "    <tr>\n",
              "      <th>9</th>\n",
              "      <td>алый</td>\n",
              "      <td>прилагательное</td>\n",
              "      <td>1</td>\n",
              "      <td>0</td>\n",
              "      <td>1</td>\n",
              "      <td>0</td>\n",
              "      <td>0</td>\n",
              "      <td>0</td>\n",
              "      <td>0</td>\n",
              "      <td>0</td>\n",
              "      <td>40.0</td>\n",
              "      <td>427.0</td>\n",
              "      <td>934.0</td>\n",
              "      <td>1707.0</td>\n",
              "      <td>цвет</td>\n",
              "    </tr>\n",
              "    <tr>\n",
              "      <th>10</th>\n",
              "      <td>амбре</td>\n",
              "      <td>существительное</td>\n",
              "      <td>1</td>\n",
              "      <td>0</td>\n",
              "      <td>0</td>\n",
              "      <td>0</td>\n",
              "      <td>0</td>\n",
              "      <td>1</td>\n",
              "      <td>0</td>\n",
              "      <td>0</td>\n",
              "      <td>1.0</td>\n",
              "      <td>14.0</td>\n",
              "      <td>5.0</td>\n",
              "      <td>38.0</td>\n",
              "      <td>запах</td>\n",
              "    </tr>\n",
              "    <tr>\n",
              "      <th>...</th>\n",
              "      <td>...</td>\n",
              "      <td>...</td>\n",
              "      <td>...</td>\n",
              "      <td>...</td>\n",
              "      <td>...</td>\n",
              "      <td>...</td>\n",
              "      <td>...</td>\n",
              "      <td>...</td>\n",
              "      <td>...</td>\n",
              "      <td>...</td>\n",
              "      <td>...</td>\n",
              "      <td>...</td>\n",
              "      <td>...</td>\n",
              "      <td>...</td>\n",
              "      <td>...</td>\n",
              "    </tr>\n",
              "    <tr>\n",
              "      <th>2803</th>\n",
              "      <td>ярко-оранжевый</td>\n",
              "      <td>прилагательное</td>\n",
              "      <td>1</td>\n",
              "      <td>0</td>\n",
              "      <td>1</td>\n",
              "      <td>0</td>\n",
              "      <td>0</td>\n",
              "      <td>0</td>\n",
              "      <td>0</td>\n",
              "      <td>0</td>\n",
              "      <td>0.0</td>\n",
              "      <td>14.0</td>\n",
              "      <td>18.0</td>\n",
              "      <td>132.0</td>\n",
              "      <td>цвет</td>\n",
              "    </tr>\n",
              "    <tr>\n",
              "      <th>2804</th>\n",
              "      <td>ярко-розовый</td>\n",
              "      <td>прилагательное</td>\n",
              "      <td>1</td>\n",
              "      <td>0</td>\n",
              "      <td>1</td>\n",
              "      <td>0</td>\n",
              "      <td>0</td>\n",
              "      <td>0</td>\n",
              "      <td>0</td>\n",
              "      <td>0</td>\n",
              "      <td>0.0</td>\n",
              "      <td>23.0</td>\n",
              "      <td>45.0</td>\n",
              "      <td>120.0</td>\n",
              "      <td>цвет</td>\n",
              "    </tr>\n",
              "    <tr>\n",
              "      <th>2805</th>\n",
              "      <td>ярко-синий</td>\n",
              "      <td>прилагательное</td>\n",
              "      <td>1</td>\n",
              "      <td>0</td>\n",
              "      <td>1</td>\n",
              "      <td>0</td>\n",
              "      <td>0</td>\n",
              "      <td>0</td>\n",
              "      <td>0</td>\n",
              "      <td>0</td>\n",
              "      <td>0.0</td>\n",
              "      <td>15.0</td>\n",
              "      <td>98.0</td>\n",
              "      <td>277.0</td>\n",
              "      <td>цвет</td>\n",
              "    </tr>\n",
              "    <tr>\n",
              "      <th>2806</th>\n",
              "      <td>ярко-фиолетовый</td>\n",
              "      <td>прилагательное</td>\n",
              "      <td>1</td>\n",
              "      <td>0</td>\n",
              "      <td>1</td>\n",
              "      <td>0</td>\n",
              "      <td>0</td>\n",
              "      <td>0</td>\n",
              "      <td>0</td>\n",
              "      <td>0</td>\n",
              "      <td>0.0</td>\n",
              "      <td>3.0</td>\n",
              "      <td>5.0</td>\n",
              "      <td>13.0</td>\n",
              "      <td>цвет</td>\n",
              "    </tr>\n",
              "    <tr>\n",
              "      <th>2808</th>\n",
              "      <td>яркость</td>\n",
              "      <td>существительное</td>\n",
              "      <td>0</td>\n",
              "      <td>0</td>\n",
              "      <td>1</td>\n",
              "      <td>1</td>\n",
              "      <td>1</td>\n",
              "      <td>1</td>\n",
              "      <td>0</td>\n",
              "      <td>0</td>\n",
              "      <td>2.0</td>\n",
              "      <td>390.0</td>\n",
              "      <td>839.0</td>\n",
              "      <td>1416.0</td>\n",
              "      <td>яркость</td>\n",
              "    </tr>\n",
              "  </tbody>\n",
              "</table>\n",
              "<p>1028 rows × 15 columns</p>\n",
              "</div>\n",
              "      <button class=\"colab-df-convert\" onclick=\"convertToInteractive('df-167d96c8-5a6a-48ff-ad77-ef62a2261fbe')\"\n",
              "              title=\"Convert this dataframe to an interactive table.\"\n",
              "              style=\"display:none;\">\n",
              "        \n",
              "  <svg xmlns=\"http://www.w3.org/2000/svg\" height=\"24px\"viewBox=\"0 0 24 24\"\n",
              "       width=\"24px\">\n",
              "    <path d=\"M0 0h24v24H0V0z\" fill=\"none\"/>\n",
              "    <path d=\"M18.56 5.44l.94 2.06.94-2.06 2.06-.94-2.06-.94-.94-2.06-.94 2.06-2.06.94zm-11 1L8.5 8.5l.94-2.06 2.06-.94-2.06-.94L8.5 2.5l-.94 2.06-2.06.94zm10 10l.94 2.06.94-2.06 2.06-.94-2.06-.94-.94-2.06-.94 2.06-2.06.94z\"/><path d=\"M17.41 7.96l-1.37-1.37c-.4-.4-.92-.59-1.43-.59-.52 0-1.04.2-1.43.59L10.3 9.45l-7.72 7.72c-.78.78-.78 2.05 0 2.83L4 21.41c.39.39.9.59 1.41.59.51 0 1.02-.2 1.41-.59l7.78-7.78 2.81-2.81c.8-.78.8-2.07 0-2.86zM5.41 20L4 18.59l7.72-7.72 1.47 1.35L5.41 20z\"/>\n",
              "  </svg>\n",
              "      </button>\n",
              "      \n",
              "  <style>\n",
              "    .colab-df-container {\n",
              "      display:flex;\n",
              "      flex-wrap:wrap;\n",
              "      gap: 12px;\n",
              "    }\n",
              "\n",
              "    .colab-df-convert {\n",
              "      background-color: #E8F0FE;\n",
              "      border: none;\n",
              "      border-radius: 50%;\n",
              "      cursor: pointer;\n",
              "      display: none;\n",
              "      fill: #1967D2;\n",
              "      height: 32px;\n",
              "      padding: 0 0 0 0;\n",
              "      width: 32px;\n",
              "    }\n",
              "\n",
              "    .colab-df-convert:hover {\n",
              "      background-color: #E2EBFA;\n",
              "      box-shadow: 0px 1px 2px rgba(60, 64, 67, 0.3), 0px 1px 3px 1px rgba(60, 64, 67, 0.15);\n",
              "      fill: #174EA6;\n",
              "    }\n",
              "\n",
              "    [theme=dark] .colab-df-convert {\n",
              "      background-color: #3B4455;\n",
              "      fill: #D2E3FC;\n",
              "    }\n",
              "\n",
              "    [theme=dark] .colab-df-convert:hover {\n",
              "      background-color: #434B5C;\n",
              "      box-shadow: 0px 1px 3px 1px rgba(0, 0, 0, 0.15);\n",
              "      filter: drop-shadow(0px 1px 2px rgba(0, 0, 0, 0.3));\n",
              "      fill: #FFFFFF;\n",
              "    }\n",
              "  </style>\n",
              "\n",
              "      <script>\n",
              "        const buttonEl =\n",
              "          document.querySelector('#df-167d96c8-5a6a-48ff-ad77-ef62a2261fbe button.colab-df-convert');\n",
              "        buttonEl.style.display =\n",
              "          google.colab.kernel.accessAllowed ? 'block' : 'none';\n",
              "\n",
              "        async function convertToInteractive(key) {\n",
              "          const element = document.querySelector('#df-167d96c8-5a6a-48ff-ad77-ef62a2261fbe');\n",
              "          const dataTable =\n",
              "            await google.colab.kernel.invokeFunction('convertToInteractive',\n",
              "                                                     [key], {});\n",
              "          if (!dataTable) return;\n",
              "\n",
              "          const docLinkHtml = 'Like what you see? Visit the ' +\n",
              "            '<a target=\"_blank\" href=https://colab.research.google.com/notebooks/data_table.ipynb>data table notebook</a>'\n",
              "            + ' to learn more about interactive tables.';\n",
              "          element.innerHTML = '';\n",
              "          dataTable['output_type'] = 'display_data';\n",
              "          await google.colab.output.renderOutput(dataTable, element);\n",
              "          const docLink = document.createElement('div');\n",
              "          docLink.innerHTML = docLinkHtml;\n",
              "          element.appendChild(docLink);\n",
              "        }\n",
              "      </script>\n",
              "    </div>\n",
              "  </div>\n",
              "  "
            ]
          },
          "metadata": {},
          "execution_count": 8
        }
      ]
    },
    {
      "cell_type": "code",
      "source": [
        "df['Семантическая когорта'] = df['Семантическая когорта'].replace('слушать', 'слышать')\n",
        "df['Семантическая когорта'] = df['Семантическая когорта'].replace('свежесть', 'свежий')\n",
        "df['Семантическая когорта'] = df['Семантическая когорта'].replace('сытный', 'вкусный')\n",
        "df['Семантическая когорта'] = df['Семантическая когорта'].replace('вертикальный', 'направление')\n",
        "df['Семантическая когорта'] = df['Семантическая когорта'].replace('горизонтальный', 'направление')\n",
        "df['Семантическая когорта'] = df['Семантическая когорта'].replace('аромат', 'ароматный')\n",
        "df['Семантическая когорта'] = df['Семантическая когорта'].replace('ровный', 'прямой')\n",
        "df['Семантическая когорта'] = df['Семантическая когорта'].replace('глухой', 'глухой/немой')\n",
        "df['Семантическая когорта'] = df['Семантическая когорта'].replace('немой', 'глухой/немой')\n",
        "df['Семантическая когорта'] = df['Семантическая когорта'].replace('слепой', 'зрение')\n",
        "df['Семантическая когорта'] = df['Семантическая когорта'].replace('цветной', 'цвет')\n",
        "df['Семантическая когорта'] = df['Семантическая когорта'].replace('плотный', 'твердый')\n",
        "df['Семантическая когорта'] = df['Семантическая когорта'].replace('пресный', 'невкусный')\n",
        "df['Семантическая когорта'] = df['Семантическая когорта'].replace('резкий', 'острый')\n",
        "df['Семантическая когорта'] = df['Семантическая когорта'].replace('вкус', 'вкусный')\n",
        "df['Семантическая когорта'] = df['Семантическая когорта'].replace('свежий', 'вкусный')\n",
        "df['Семантическая когорта'] = df['Семантическая когорта'].replace('яркий', 'светлый')\n",
        "df['Семантическая когорта'] = df['Семантическая когорта'].replace('сочный', 'мокрый')\n",
        "df['Семантическая когорта'] = df['Семантическая когорта'].replace('высокий', 'длинный')\n",
        "df['Семантическая когорта'] = df['Семантическая когорта'].replace('тягучий', 'вязкий')\n",
        "df['Семантическая когорта'] = df['Семантическая когорта'].replace('звук', 'звучать')\n",
        "df['Семантическая когорта'] = df['Семантическая когорта'].replace('издавать запах', 'ароматный')\n",
        "df['Слово'] = df['Слово'].replace('ярко-небесного цвета', 'ярко-небесный')\n",
        "df['Сенсорная эксклюзивность'] = df['Сенсорная эксклюзивность'].replace(11, 1)\n",
        "df['Семантическая когорта'] = df['Семантическая когорта'].replace('едкий', 'вонючий')"
      ],
      "metadata": {
        "id": "qpnYwfrKsYUF"
      },
      "execution_count": null,
      "outputs": []
    },
    {
      "cell_type": "code",
      "source": [
        "df = df.drop(df[df['Слово'] == 'прямиково'].index)\n",
        "df = df.drop(df[df['Слово'] == 'прямиковый'].index)\n",
        "df = df.drop(df[df['Слово'] == 'прямо'].index)\n",
        "df = df.drop(df[df['Слово'] == 'скудный'].index)\n",
        "df = df.drop(df[df['Слово'] == 'сгибаться'].index)\n",
        "df = df.drop(df[df['Слово'] == 'сгибающийся'].index)\n",
        "df = df.drop(df[df['Слово'] == 'уязвимый'].index)\n",
        "df = df.drop(df[df['Слово'] == 'эфемерно'].index)\n",
        "df = df.drop(df[df['Слово'] == 'эфемерный'].index)\n",
        "df = df.drop(df[df['Слово'] == 'эфемерность'].index)\n",
        "df = df.drop(df[df['Слово'] == 'великорослый'].index)\n",
        "df = df.drop(df[df['Слово'] == 'высокорослый'].index)\n",
        "df = df.drop(df[df['Слово'] == 'компактно'].index)\n",
        "df = df.drop(df[df['Слово'] == 'малютка'].index)\n",
        "df = df.drop(df[df['Слово'] == 'великий'].index)\n",
        "df = df.drop(df[df['Слово'] == 'бить в нос'].index)\n",
        "df = df.drop(df[df['Слово'] == 'издавать запах'].index)\n",
        "df = df.drop(df[df['Слово'] == 'изливать аромат'].index)\n",
        "df = df.drop(df[df['Слово'] == 'застаиваться'].index)\n",
        "df = df.drop(df[df['Слово'] == 'ударять'].index)\n",
        "df = df.drop(df[df['Слово'] == 'выступать'].index)\n",
        "df = df.drop(df[df['Слово'] == 'занести'].index)\n",
        "df = df.drop(df[df['Слово'] == 'отзываться'].index)\n",
        "df = df.drop(df[df['Слово'] == 'шлейфовая нота'].index)\n",
        "df = df.drop(df[df['Слово'] == 'белее бумаги'].index)\n",
        "df = df.drop(df[df['Семантическая когорта'] == 'худой'].index)\n",
        "df = df.drop(df[df['Семантическая когорта'] == 'толстый'].index)\n",
        "df = df.drop(df[df['Семантическая когорта'] == 'далекий'].index)\n",
        "df = df.drop(df[df['Семантическая когорта'] == 'красивый'].index)\n",
        "df = df.drop(df[df['Семантическая когорта'] == 'уродливый'].index)\n",
        "df = df.drop(df[df['Семантическая когорта'] == 'пауза'].index)\n",
        "df = df.drop(df[df['Семантическая когорта'] == 'плохой'].index)\n",
        "df = df.drop(df[df['Семантическая когорта'] == 'хороший'].index)\n",
        "df = df.drop(df[df['Семантическая когорта'] == 'старый'].index)\n",
        "df = df.drop(df[df['Семантическая когорта'] == 'гибкий'].index)\n",
        "df = df.drop(df[df['Семантическая когорта'] == 'упругость'].index)\n",
        "df = df.drop(df[df['Семантическая когорта'] == 'мощный'].index)\n",
        "df = df.drop(df[df['Семантическая когорта'] == 'близкий'].index)\n",
        "df = df.drop(df[df['Семантическая когорта'] == 'чистый'].index)\n",
        "df = df.drop(df[df['Семантическая когорта'] == 'смежный'].index)\n",
        "df = df.drop(df[df['Семантическая когорта'] == 'ясный'].index)\n",
        "df = df.drop(df[df['Семантическая когорта'] == 'неясный'].index)\n",
        "df = df.drop(df[df['Семантическая когорта'] == 'низкий'].index)\n",
        "df = df.drop(df[df['Семантическая когорта'] == 'тонкий'].index)\n",
        "df = df.drop(df[df['Часть речи'] == 'словосочетание'].index)"
      ],
      "metadata": {
        "id": "6i0bfBA1uLGV"
      },
      "execution_count": null,
      "outputs": []
    },
    {
      "cell_type": "code",
      "source": [
        "for index, row in df.iterrows():\n",
        "  if row[\"Слово\"] == \"агатовый\":\n",
        "    df.at[index, \"Устойчивая метафоричность\"] = 1\n",
        "  if row[\"Слово\"] == \"алебастровый\":\n",
        "    df.at[index, \"Устойчивая метафоричность\"] = 1\n",
        "  if row[\"Слово\"] == \"яркость\":\n",
        "    df.at[index, \"Устойчивая метафоричность\"] = 1"
      ],
      "metadata": {
        "id": "Mva7EVvfbo75"
      },
      "execution_count": null,
      "outputs": []
    },
    {
      "cell_type": "code",
      "source": [
        "df = df.fillna(0)"
      ],
      "metadata": {
        "id": "ekd5raY4cRP8"
      },
      "execution_count": null,
      "outputs": []
    },
    {
      "cell_type": "code",
      "source": [
        "df = df.drop(df[(df[['xviii', 'xix', 'pre1950', 'post1950']] == 0).all(axis=1)].index)"
      ],
      "metadata": {
        "id": "XssDRh1Inx0_"
      },
      "execution_count": null,
      "outputs": []
    },
    {
      "cell_type": "code",
      "source": [
        "df = df.drop(df[df['xviii'] == 0].index &\n",
        "                       df[df['xix'] == 0].index &\n",
        "                       df[df['pre1950'] == 0].index &\n",
        "                       df[df['post1950'] == 0].index)"
      ],
      "metadata": {
        "colab": {
          "base_uri": "https://localhost:8080/"
        },
        "id": "PW8zFPSucMon",
        "outputId": "0ed99e92-6d18-435a-83b7-61684d18a471"
      },
      "execution_count": null,
      "outputs": [
        {
          "output_type": "stream",
          "name": "stderr",
          "text": [
            "<ipython-input-14-fe63aae9cfd8>:1: FutureWarning: Index.__and__ operating as a set operation is deprecated, in the future this will be a logical operation matching Series.__and__.  Use index.intersection(other) instead.\n",
            "  df = df.drop(df[df['xviii'] == 0].index &\n"
          ]
        }
      ]
    },
    {
      "cell_type": "code",
      "source": [
        "df = df.drop_duplicates(subset=['Слово'])"
      ],
      "metadata": {
        "id": "YQiLqiQmbRHd"
      },
      "execution_count": null,
      "outputs": []
    },
    {
      "cell_type": "code",
      "source": [
        "df_xviii = df.drop(columns=[\"xix\", \"pre1950\", \"post1950\"])\n",
        "df_xix = df.drop(columns=[\"xviii\", \"pre1950\", \"post1950\"])\n",
        "df_pre1950 = df.drop(columns=[\"xviii\", \"xix\", \"post1950\"])\n",
        "df_post1950 = df.drop(columns=[\"xviii\", \"xix\", \"pre1950\"])"
      ],
      "metadata": {
        "id": "1OvV71ZTZFRN"
      },
      "execution_count": null,
      "outputs": []
    },
    {
      "cell_type": "code",
      "source": [
        "df_xviii = df_xviii.drop(df_xviii[df_xviii['xviii'] < 5].index)\n",
        "df_xix = df_xix.drop(df_xix[df_xix['xix'] < 5].index)\n",
        "df_pre1950 = df_pre1950.drop(df_pre1950[df_pre1950['pre1950'] < 5].index)\n",
        "df_post1950 = df_post1950.drop(df_post1950[df_post1950['post1950'] < 5].index)"
      ],
      "metadata": {
        "id": "GYlr2EC9Xyon"
      },
      "execution_count": null,
      "outputs": []
    },
    {
      "cell_type": "code",
      "source": [
        "df.to_csv(\"new_df.csv\")"
      ],
      "metadata": {
        "id": "8Pz-mrQ0qu2W"
      },
      "execution_count": null,
      "outputs": []
    },
    {
      "cell_type": "code",
      "source": [
        "for index, row in df.iterrows():\n",
        "  df.at[index, \"xviii\"] = row[\"xviii\"]/6142959*1000000\n",
        "  df.at[index, \"xix\"] = row[\"xix\"]/75352832*1000000\n",
        "  df.at[index, \"pre1950\"] = row[\"pre1950\"]/95749648*1000000\n",
        "  df.at[index, \"post1950\"] = row[\"post1950\"]/182374059*1000000"
      ],
      "metadata": {
        "id": "OxteLbQrrIvp"
      },
      "execution_count": null,
      "outputs": []
    },
    {
      "cell_type": "code",
      "source": [
        "df.to_csv(\"new_df_norm.csv\")"
      ],
      "metadata": {
        "id": "jSfbp9WdrPEq"
      },
      "execution_count": null,
      "outputs": []
    },
    {
      "cell_type": "code",
      "source": [
        "for index, row in df_xviii.iterrows():\n",
        "  df_xviii.at[index, \"xviii\"] = row[\"xviii\"]/6142959*1000000"
      ],
      "metadata": {
        "id": "RlXlGUVrh2s4"
      },
      "execution_count": null,
      "outputs": []
    },
    {
      "cell_type": "code",
      "source": [
        "for index, row in df_xix.iterrows():\n",
        "  df_xix.at[index, \"xix\"] = row[\"xix\"]/75352832*1000000"
      ],
      "metadata": {
        "id": "FhsfKyXUv_2W"
      },
      "execution_count": null,
      "outputs": []
    },
    {
      "cell_type": "code",
      "source": [
        "for index, row in df_pre1950.iterrows():\n",
        "  df_pre1950.at[index, \"pre1950\"] = row[\"pre1950\"]/95749648*1000000"
      ],
      "metadata": {
        "id": "PNxTa-JvwHfO"
      },
      "execution_count": null,
      "outputs": []
    },
    {
      "cell_type": "code",
      "source": [
        "for index, row in df_post1950.iterrows():\n",
        "  df_post1950.at[index, \"post1950\"] = row[\"post1950\"]/182374059*1000000"
      ],
      "metadata": {
        "id": "y9hmrBFkwQ2b"
      },
      "execution_count": null,
      "outputs": []
    },
    {
      "cell_type": "code",
      "source": [
        "df_xviii.to_csv(\"df_xviii.csv\")\n",
        "df_xix.to_csv(\"df_xix.csv\")\n",
        "df_pre1950.to_csv(\"df_pre1950.csv\")\n",
        "df_post1950.to_csv(\"df_post1950.csv\")"
      ],
      "metadata": {
        "id": "pUr0XxEVwVxc"
      },
      "execution_count": null,
      "outputs": []
    }
  ]
}